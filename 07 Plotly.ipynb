{
 "cells":[
  {
   "cell_type":"markdown",
   "source":[
    "Estimated time needed: **40** minutes"
   ],
   "attachments":{},
   "metadata":{
    "datalore":{
     "node_id":"zVsGia2lnThIso7hHBc1Ds",
     "type":"MD",
     "hide_input_from_viewers":false,
     "hide_output_from_viewers":false,
     "report_properties":{
      "rowId":"1rAon0zlbNmyQmgN6N0fs1"
     }
    }
   }
  },
  {
   "cell_type":"markdown",
   "source":[
    "The launch success rate may depend on many factors such as payload mass, orbit type, and so on. It may also depend on the location and proximities of a launch site, i.e., the initial position of rocket trajectories. Finding an optimal location for building a launch site certainly involves many factors and hopefully we could discover some of the factors by analyzing the existing launch site locations."
   ],
   "attachments":{},
   "metadata":{
    "datalore":{
     "node_id":"pD0sYpeF1iSdsAovkVaWvt",
     "type":"MD",
     "hide_input_from_viewers":false,
     "hide_output_from_viewers":false,
     "report_properties":{
      "rowId":"vxe8r4EnSjU2DKMiBJ8a4k"
     }
    }
   }
  },
  {
   "cell_type":"markdown",
   "source":[
    "In the previous exploratory data analysis labs, you have visualized the SpaceX launch dataset using `matplotlib` and `seaborn` and discovered some preliminary correlations between the launch site and success rates. In this lab, you will be performing more interactive visual analytics using `Folium`."
   ],
   "attachments":{},
   "metadata":{
    "datalore":{
     "node_id":"a58dk2QULclCZu5z0C8TRm",
     "type":"MD",
     "hide_input_from_viewers":false,
     "hide_output_from_viewers":false,
     "report_properties":{
      "rowId":"4JOFK2VmUYA95vnZ0KmDyG"
     }
    }
   }
  },
  {
   "cell_type":"markdown",
   "source":[
    "## Objectives"
   ],
   "attachments":{},
   "metadata":{
    "datalore":{
     "node_id":"WX9WWNTSabmwpffoK2REzi",
     "type":"MD",
     "hide_input_from_viewers":false,
     "hide_output_from_viewers":false,
     "report_properties":{
      "rowId":"PQcUblHHDVmBs47ymYg0lA"
     }
    }
   }
  },
  {
   "cell_type":"markdown",
   "source":[
    "This lab contains the following tasks:\n",
    "- **TASK 1:** Mark all launch sites on a map\n",
    "- **TASK 2:** Mark the success\/failed launches for each site on the map\n",
    "- **TASK 3:** Calculate the distances between a launch site to its proximities\n",
    "\n",
    "After completed the above tasks, you should be able to find some geographical patterns about launch sites."
   ],
   "attachments":{},
   "metadata":{
    "datalore":{
     "node_id":"juBc4qblAXvcDidjeJAsnm",
     "type":"MD",
     "hide_input_from_viewers":false,
     "hide_output_from_viewers":false,
     "report_properties":{
      "rowId":"KTJNxj6p2F8pIAJdCYOjGG"
     }
    }
   }
  },
  {
   "cell_type":"markdown",
   "source":[
    "Let's first import required Python packages for this lab:"
   ],
   "attachments":{},
   "metadata":{
    "datalore":{
     "node_id":"A1sTOq2zKmL55khVEjbiEB",
     "type":"MD",
     "hide_input_from_viewers":false,
     "hide_output_from_viewers":false,
     "report_properties":{
      "rowId":"s09cGHonVPzmOhDaFhrS4b"
     }
    }
   }
  },
  {
   "cell_type":"code",
   "source":[
    "!pip3 install folium\n",
    "!pip3 install wget"
   ],
   "execution_count":1,
   "outputs":[
    {
     "name":"stdout",
     "text":[
      "Collecting folium\r\n",
      "  Downloading folium-0.17.0-py2.py3-none-any.whl (108 kB)\r\n",
      "\u001b[?25l     \u001b[90m━━━━━━━━━━━━━━━━━━━━━━━━━━━━━━━━━━━━━━━━\u001b[0m \u001b[32m0.0\/108.4 kB\u001b[0m \u001b[31m?\u001b[0m eta \u001b[36m-:--:--\u001b[0m\r\u001b[2K     \u001b[90m━━━━━━━━━━━━━━━━━━━━━━━━━━━━━━━━━━━━━━\u001b[0m \u001b[32m108.4\/108.4 kB\u001b[0m \u001b[31m14.0 MB\/s\u001b[0m eta \u001b[36m0:00:00\u001b[0m\r\n",
      "\u001b[?25hCollecting branca>=0.6.0 (from folium)\r\n",
      "  Downloading branca-0.7.2-py3-none-any.whl (25 kB)\r\n",
      "Requirement already satisfied: jinja2>=2.9 in \/opt\/python\/envs\/default\/lib\/python3.8\/site-packages (from folium) (3.1.4)\r\n",
      "Requirement already satisfied: numpy in \/opt\/python\/envs\/default\/lib\/python3.8\/site-packages (from folium) (1.24.3)\r\n",
      "Requirement already satisfied: requests in \/opt\/python\/envs\/default\/lib\/python3.8\/site-packages (from folium) (2.30.0)\r\n",
      "Requirement already satisfied: xyzservices in \/opt\/python\/envs\/default\/lib\/python3.8\/site-packages (from folium) (2024.6.0)\r\n",
      "Requirement already satisfied: MarkupSafe>=2.0 in \/opt\/python\/envs\/default\/lib\/python3.8\/site-packages (from jinja2>=2.9->folium) (2.1.5)\r\n",
      "Requirement already satisfied: charset-normalizer<4,>=2 in \/opt\/python\/envs\/default\/lib\/python3.8\/site-packages (from requests->folium) (3.3.2)\r\n",
      "Requirement already satisfied: idna<4,>=2.5 in \/opt\/python\/envs\/default\/lib\/python3.8\/site-packages (from requests->folium) (3.7)\r\n",
      "Requirement already satisfied: urllib3<3,>=1.21.1 in \/opt\/python\/envs\/default\/lib\/python3.8\/site-packages (from requests->folium) (1.26.19)\r\n",
      "Requirement already satisfied: certifi>=2017.4.17 in \/opt\/python\/envs\/default\/lib\/python3.8\/site-packages (from requests->folium) (2024.6.2)\r\n",
      "Installing collected packages: branca, folium\r\n",
      "Successfully installed branca-0.7.2 folium-0.17.0\r\n",
      "\r\n",
      "\u001b[1m[\u001b[0m\u001b[34;49mnotice\u001b[0m\u001b[1;39;49m]\u001b[0m\u001b[39;49m A new release of pip is available: \u001b[0m\u001b[31;49m23.1.2\u001b[0m\u001b[39;49m -> \u001b[0m\u001b[32;49m24.1.2\u001b[0m\r\n",
      "\u001b[1m[\u001b[0m\u001b[34;49mnotice\u001b[0m\u001b[1;39;49m]\u001b[0m\u001b[39;49m To update, run: \u001b[0m\u001b[32;49mpip install --upgrade pip\u001b[0m\r\n",
      "Collecting wget\r\n",
      "  Downloading wget-3.2.zip (10 kB)\r\n",
      "  Preparing metadata (setup.py) ... \u001b[?25ldone\r\n",
      "\u001b[?25hBuilding wheels for collected packages: wget\r\n",
      "  Building wheel for wget (setup.py) ... \u001b[?25l-\b \bdone\r\n",
      "\u001b[?25h  Created wheel for wget: filename=wget-3.2-py3-none-any.whl size=9654 sha256=86f89e8dad05725a525a3cbe4bda9b1416d775d11828d0d9fe400f88b022e492\r\n",
      "  Stored in directory: \/home\/datalore\/.cache\/pip\/wheels\/bd\/a8\/c3\/3cf2c14a1837a4e04bd98631724e81f33f462d86a1d895fae0\r\n",
      "Successfully built wget\r\n",
      "Installing collected packages: wget\r\n",
      "Successfully installed wget-3.2\r\n",
      "\r\n",
      "\u001b[1m[\u001b[0m\u001b[34;49mnotice\u001b[0m\u001b[1;39;49m]\u001b[0m\u001b[39;49m A new release of pip is available: \u001b[0m\u001b[31;49m23.1.2\u001b[0m\u001b[39;49m -> \u001b[0m\u001b[32;49m24.1.2\u001b[0m\r\n",
      "\u001b[1m[\u001b[0m\u001b[34;49mnotice\u001b[0m\u001b[1;39;49m]\u001b[0m\u001b[39;49m To update, run: \u001b[0m\u001b[32;49mpip install --upgrade pip\u001b[0m\r\n"
     ],
     "output_type":"stream"
    }
   ],
   "metadata":{
    "datalore":{
     "node_id":"s1IB2m9gP1RpxlJgjsg3Ix",
     "type":"CODE",
     "hide_input_from_viewers":false,
     "hide_output_from_viewers":false,
     "report_properties":{
      "rowId":"BpfeTLGkcf2QiehpWjUpq2"
     }
    }
   }
  },
  {
   "cell_type":"code",
   "source":[
    "import folium\n",
    "import wget\n",
    "import pandas as pd"
   ],
   "execution_count":2,
   "outputs":[],
   "metadata":{
    "datalore":{
     "node_id":"UVFREKLncpfTUMJ16fS3gO",
     "type":"CODE",
     "hide_input_from_viewers":false,
     "hide_output_from_viewers":false,
     "report_properties":{
      "rowId":"bes63IDipawQmchB8FrFW2"
     }
    }
   }
  },
  {
   "cell_type":"code",
   "source":[
    "# Import folium MarkerCluster plugin\n",
    "from folium.plugins import MarkerCluster\n",
    "# Import folium MousePosition plugin\n",
    "from folium.plugins import MousePosition\n",
    "# Import folium DivIcon plugin\n",
    "from folium.features import DivIcon"
   ],
   "execution_count":3,
   "outputs":[],
   "metadata":{
    "datalore":{
     "node_id":"gA9LZRstcV7DZDnot44Ud3",
     "type":"CODE",
     "hide_input_from_viewers":false,
     "hide_output_from_viewers":false,
     "report_properties":{
      "rowId":"IlEu4008bb66Ez9sEva7KK"
     }
    }
   }
  },
  {
   "cell_type":"markdown",
   "source":[
    "If you need to refresh your memory about folium, you may download and refer to this previous folium lab:"
   ],
   "attachments":{},
   "metadata":{
    "datalore":{
     "node_id":"50FiDyOcooroWiiQ5j4Rpr",
     "type":"MD",
     "hide_input_from_viewers":false,
     "hide_output_from_viewers":false,
     "report_properties":{
      "rowId":"KNmVq6RgrhBPxW7bU2INSl"
     }
    }
   }
  },
  {
   "cell_type":"markdown",
   "source":[
    "[Generating Maps with Python](https:\/\/cf-courses-data.s3.us.cloud-object-storage.appdomain.cloud\/IBM-DS0321EN-SkillsNetwork\/labs\/module_3\/DV0101EN-3-5-1-Generating-Maps-in-Python-py-v2.0.ipynb)"
   ],
   "attachments":{},
   "metadata":{
    "datalore":{
     "node_id":"PEMjFoRhcT3O3svjQOHipV",
     "type":"MD",
     "hide_input_from_viewers":false,
     "hide_output_from_viewers":false,
     "report_properties":{
      "rowId":"sSlVYubIwNJiQwZHBO4yZ5"
     }
    }
   }
  },
  {
   "cell_type":"markdown",
   "source":[
    "## Task 1: Mark all launch sites on a map"
   ],
   "attachments":{},
   "metadata":{
    "datalore":{
     "node_id":"kyyBmaZg90sWkvVPTgwPoB",
     "type":"MD",
     "hide_input_from_viewers":false,
     "hide_output_from_viewers":false,
     "report_properties":{
      "rowId":"2IIF99B1ETmFuTm705nsDo"
     }
    }
   }
  },
  {
   "cell_type":"markdown",
   "source":[
    "First, let's try to add each site's location on a map using site's latitude and longitude coordinates"
   ],
   "attachments":{},
   "metadata":{
    "datalore":{
     "node_id":"x07psoSsGs2nwCTh83AFYd",
     "type":"MD",
     "hide_input_from_viewers":false,
     "hide_output_from_viewers":false,
     "report_properties":{
      "rowId":"bRJsvDJZ1AdEGN7pNiixGC"
     }
    }
   }
  },
  {
   "cell_type":"markdown",
   "source":[
    "The following dataset with the name `spacex_launch_geo.csv` is an augmented dataset with latitude and longitude added for each site. "
   ],
   "attachments":{},
   "metadata":{
    "datalore":{
     "node_id":"0lerCHufJtqqOxz5R68S4h",
     "type":"MD",
     "hide_input_from_viewers":false,
     "hide_output_from_viewers":false,
     "report_properties":{
      "rowId":"3C3sC2jESxs83nuTDoaXvb"
     }
    }
   }
  },
  {
   "cell_type":"code",
   "source":[
    "# Download and read the `spacex_launch_geo.csv`\n",
    "spacex_csv_file = wget.download('https:\/\/cf-courses-data.s3.us.cloud-object-storage.appdomain.cloud\/IBM-DS0321EN-SkillsNetwork\/datasets\/spacex_launch_geo.csv')\n",
    "spacex_df=pd.read_csv(spacex_csv_file)"
   ],
   "execution_count":4,
   "outputs":[],
   "metadata":{
    "datalore":{
     "node_id":"5uyu2k5YI5FBsdM07wkqqT",
     "type":"CODE",
     "hide_input_from_viewers":false,
     "hide_output_from_viewers":false,
     "report_properties":{
      "rowId":"3pyWYwG3s7dEeklUCG1kSN"
     }
    }
   }
  },
  {
   "cell_type":"markdown",
   "source":[
    "Now, you can take a look at what are the coordinates for each site."
   ],
   "attachments":{},
   "metadata":{
    "datalore":{
     "node_id":"POy3W75vL3uN9hQL2ul58j",
     "type":"MD",
     "hide_input_from_viewers":false,
     "hide_output_from_viewers":false,
     "report_properties":{
      "rowId":"0JHPvMrswDmWnemSu6e0yw"
     }
    }
   }
  },
  {
   "cell_type":"code",
   "source":[
    "# Select relevant sub-columns: `Launch Site`, `Lat(Latitude)`, `Long(Longitude)`, `class`\n",
    "spacex_df = spacex_df[['Launch Site', 'Lat', 'Long', 'class']]\n",
    "launch_sites_df = spacex_df.groupby(['Launch Site'], as_index=False).first()\n",
    "launch_sites_df = launch_sites_df[['Launch Site', 'Lat', 'Long']]\n",
    "launch_sites_df"
   ],
   "execution_count":5,
   "outputs":[
    {
     "data":{
      "text\/html":[
       "<div>\n",
       "<style scoped>\n",
       "    .dataframe tbody tr th:only-of-type {\n",
       "        vertical-align: middle;\n",
       "    }\n",
       "\n",
       "    .dataframe tbody tr th {\n",
       "        vertical-align: top;\n",
       "    }\n",
       "\n",
       "    .dataframe thead th {\n",
       "        text-align: right;\n",
       "    }\n",
       "<\/style>\n",
       "<table border=\"1\" class=\"dataframe\">\n",
       "  <thead>\n",
       "    <tr style=\"text-align: right;\">\n",
       "      <th><\/th>\n",
       "      <th>Launch Site<\/th>\n",
       "      <th>Lat<\/th>\n",
       "      <th>Long<\/th>\n",
       "    <\/tr>\n",
       "  <\/thead>\n",
       "  <tbody>\n",
       "    <tr>\n",
       "      <th>0<\/th>\n",
       "      <td>CCAFS LC-40<\/td>\n",
       "      <td>28.562302<\/td>\n",
       "      <td>-80.577356<\/td>\n",
       "    <\/tr>\n",
       "    <tr>\n",
       "      <th>1<\/th>\n",
       "      <td>CCAFS SLC-40<\/td>\n",
       "      <td>28.563197<\/td>\n",
       "      <td>-80.576820<\/td>\n",
       "    <\/tr>\n",
       "    <tr>\n",
       "      <th>2<\/th>\n",
       "      <td>KSC LC-39A<\/td>\n",
       "      <td>28.573255<\/td>\n",
       "      <td>-80.646895<\/td>\n",
       "    <\/tr>\n",
       "    <tr>\n",
       "      <th>3<\/th>\n",
       "      <td>VAFB SLC-4E<\/td>\n",
       "      <td>34.632834<\/td>\n",
       "      <td>-120.610745<\/td>\n",
       "    <\/tr>\n",
       "  <\/tbody>\n",
       "<\/table>\n",
       "<\/div>"
      ]
     },
     "metadata":{},
     "output_type":"display_data"
    }
   ],
   "metadata":{
    "datalore":{
     "node_id":"pt4wegTpWyu5smmGqvAz1c",
     "type":"CODE",
     "hide_input_from_viewers":false,
     "hide_output_from_viewers":false,
     "report_properties":{
      "rowId":"YSv59Pad7r9vPvFdLLBH1f"
     }
    }
   }
  },
  {
   "cell_type":"markdown",
   "source":[
    "Above coordinates are just plain numbers that can not give you any intuitive insights about where are those launch sites. If you are very good at geography, you can interpret those numbers directly in your mind. If not, that's fine too. Let's visualize those locations by pinning them on a map."
   ],
   "attachments":{},
   "metadata":{
    "datalore":{
     "node_id":"ws1WcIaJZ1a2Wu3VDTgPxC",
     "type":"MD",
     "hide_input_from_viewers":false,
     "hide_output_from_viewers":false,
     "report_properties":{
      "rowId":"brIzIcxrcGtJ2wXgvLKas4"
     }
    }
   }
  },
  {
   "cell_type":"markdown",
   "source":[
    "We first need to create a folium `Map` object, with an initial center location to be NASA Johnson Space Center at Houston, Texas."
   ],
   "attachments":{},
   "metadata":{
    "datalore":{
     "node_id":"jZws7f39OgVUN9llq0ZOOl",
     "type":"MD",
     "hide_input_from_viewers":false,
     "hide_output_from_viewers":false,
     "report_properties":{
      "rowId":"AtOzYy08R3PSEjTL7vPED6"
     }
    }
   }
  },
  {
   "cell_type":"code",
   "source":[
    "# Start location is NASA Johnson Space Center\n",
    "nasa_coordinate = [29.559684888503615, -95.0830971930759]\n",
    "site_map = folium.Map(location=nasa_coordinate, zoom_start=10)"
   ],
   "execution_count":6,
   "outputs":[],
   "metadata":{
    "datalore":{
     "node_id":"JYI835ym8y2l2ZLmMHOvzB",
     "type":"CODE",
     "hide_input_from_viewers":false,
     "hide_output_from_viewers":false,
     "report_properties":{
      "rowId":"w6gZN0IZXlTghWL62TvrOZ"
     }
    }
   }
  },
  {
   "cell_type":"markdown",
   "source":[
    "We could use `folium.Circle` to add a highlighted circle area with a text label on a specific coordinate. For example, "
   ],
   "attachments":{},
   "metadata":{
    "datalore":{
     "node_id":"fpd9XxYTGspdWMQjEUJ67h",
     "type":"MD",
     "hide_input_from_viewers":false,
     "hide_output_from_viewers":false,
     "report_properties":{
      "rowId":"tE50mcFbNo4oOfjOC3Y0ya"
     }
    }
   }
  },
  {
   "cell_type":"code",
   "source":[
    "# Create a blue circle at NASA Johnson Space Center's coordinate with a popup label showing its name\n",
    "circle = folium.Circle(nasa_coordinate, radius=1000, color='#d35400', fill=True).add_child(folium.Popup('NASA Johnson Space Center'))\n",
    "# Create a blue circle at NASA Johnson Space Center's coordinate with a icon showing its name\n",
    "marker = folium.map.Marker(\n",
    "    nasa_coordinate,\n",
    "    # Create an icon as a text label\n",
    "    icon=DivIcon(\n",
    "        icon_size=(20,20),\n",
    "        icon_anchor=(0,0),\n",
    "        html='<div style=\"font-size: 12; color:#d35400;\"><b>%s<\/b><\/div>' % 'NASA JSC',\n",
    "        )\n",
    "    )\n",
    "site_map.add_child(circle)\n",
    "site_map.add_child(marker)"
   ],
   "execution_count":7,
   "outputs":[
    {
     "data":{
      "text\/html":[
       "<div style=\"width:100%;\"><div style=\"position:relative;width:100%;height:0;padding-bottom:60%;\"><span style=\"color:#565656\">Make this Notebook Trusted to load map: File -> Trust Notebook<\/span><iframe srcdoc=\"&lt;!DOCTYPE html&gt;\n",
       "&lt;html&gt;\n",
       "&lt;head&gt;\n",
       "    \n",
       "    &lt;meta http-equiv=&quot;content-type&quot; content=&quot;text\/html; charset=UTF-8&quot; \/&gt;\n",
       "    \n",
       "        &lt;script&gt;\n",
       "            L_NO_TOUCH = false;\n",
       "            L_DISABLE_3D = false;\n",
       "        &lt;\/script&gt;\n",
       "    \n",
       "    &lt;style&gt;html, body {width: 100%;height: 100%;margin: 0;padding: 0;}&lt;\/style&gt;\n",
       "    &lt;style&gt;#map {position:absolute;top:0;bottom:0;right:0;left:0;}&lt;\/style&gt;\n",
       "    &lt;script src=&quot;https:\/\/cdn.jsdelivr.net\/npm\/leaflet@1.9.3\/dist\/leaflet.js&quot;&gt;&lt;\/script&gt;\n",
       "    &lt;script src=&quot;https:\/\/code.jquery.com\/jquery-3.7.1.min.js&quot;&gt;&lt;\/script&gt;\n",
       "    &lt;script src=&quot;https:\/\/cdn.jsdelivr.net\/npm\/bootstrap@5.2.2\/dist\/js\/bootstrap.bundle.min.js&quot;&gt;&lt;\/script&gt;\n",
       "    &lt;script src=&quot;https:\/\/cdnjs.cloudflare.com\/ajax\/libs\/Leaflet.awesome-markers\/2.0.2\/leaflet.awesome-markers.js&quot;&gt;&lt;\/script&gt;\n",
       "    &lt;link rel=&quot;stylesheet&quot; href=&quot;https:\/\/cdn.jsdelivr.net\/npm\/leaflet@1.9.3\/dist\/leaflet.css&quot;\/&gt;\n",
       "    &lt;link rel=&quot;stylesheet&quot; href=&quot;https:\/\/cdn.jsdelivr.net\/npm\/bootstrap@5.2.2\/dist\/css\/bootstrap.min.css&quot;\/&gt;\n",
       "    &lt;link rel=&quot;stylesheet&quot; href=&quot;https:\/\/netdna.bootstrapcdn.com\/bootstrap\/3.0.0\/css\/bootstrap-glyphicons.css&quot;\/&gt;\n",
       "    &lt;link rel=&quot;stylesheet&quot; href=&quot;https:\/\/cdn.jsdelivr.net\/npm\/@fortawesome\/fontawesome-free@6.2.0\/css\/all.min.css&quot;\/&gt;\n",
       "    &lt;link rel=&quot;stylesheet&quot; href=&quot;https:\/\/cdnjs.cloudflare.com\/ajax\/libs\/Leaflet.awesome-markers\/2.0.2\/leaflet.awesome-markers.css&quot;\/&gt;\n",
       "    &lt;link rel=&quot;stylesheet&quot; href=&quot;https:\/\/cdn.jsdelivr.net\/gh\/python-visualization\/folium\/folium\/templates\/leaflet.awesome.rotate.min.css&quot;\/&gt;\n",
       "    \n",
       "            &lt;meta name=&quot;viewport&quot; content=&quot;width=device-width,\n",
       "                initial-scale=1.0, maximum-scale=1.0, user-scalable=no&quot; \/&gt;\n",
       "            &lt;style&gt;\n",
       "                #map_82ac103a6ae10528ac18a12e9d351d11 {\n",
       "                    position: relative;\n",
       "                    width: 100.0%;\n",
       "                    height: 100.0%;\n",
       "                    left: 0.0%;\n",
       "                    top: 0.0%;\n",
       "                }\n",
       "                .leaflet-container { font-size: 1rem; }\n",
       "            &lt;\/style&gt;\n",
       "        \n",
       "&lt;\/head&gt;\n",
       "&lt;body&gt;\n",
       "    \n",
       "    \n",
       "            &lt;div class=&quot;folium-map&quot; id=&quot;map_82ac103a6ae10528ac18a12e9d351d11&quot; &gt;&lt;\/div&gt;\n",
       "        \n",
       "&lt;\/body&gt;\n",
       "&lt;script&gt;\n",
       "    \n",
       "    \n",
       "            var map_82ac103a6ae10528ac18a12e9d351d11 = L.map(\n",
       "                &quot;map_82ac103a6ae10528ac18a12e9d351d11&quot;,\n",
       "                {\n",
       "                    center: [29.559684888503615, -95.0830971930759],\n",
       "                    crs: L.CRS.EPSG3857,\n",
       "                    zoom: 10,\n",
       "                    zoomControl: true,\n",
       "                    preferCanvas: false,\n",
       "                }\n",
       "            );\n",
       "\n",
       "            \n",
       "\n",
       "        \n",
       "    \n",
       "            var tile_layer_0a5aa12c71879a5e3866dedd0e92ff4f = L.tileLayer(\n",
       "                &quot;https:\/\/tile.openstreetmap.org\/{z}\/{x}\/{y}.png&quot;,\n",
       "                {&quot;attribution&quot;: &quot;\\u0026copy; \\u003ca href=\\&quot;https:\/\/www.openstreetmap.org\/copyright\\&quot;\\u003eOpenStreetMap\\u003c\/a\\u003e contributors&quot;, &quot;detectRetina&quot;: false, &quot;maxNativeZoom&quot;: 19, &quot;maxZoom&quot;: 19, &quot;minZoom&quot;: 0, &quot;noWrap&quot;: false, &quot;opacity&quot;: 1, &quot;subdomains&quot;: &quot;abc&quot;, &quot;tms&quot;: false}\n",
       "            );\n",
       "        \n",
       "    \n",
       "            tile_layer_0a5aa12c71879a5e3866dedd0e92ff4f.addTo(map_82ac103a6ae10528ac18a12e9d351d11);\n",
       "        \n",
       "    \n",
       "            var circle_894a463e8334e366e52bc84663d2396b = L.circle(\n",
       "                [29.559684888503615, -95.0830971930759],\n",
       "                {&quot;bubblingMouseEvents&quot;: true, &quot;color&quot;: &quot;#d35400&quot;, &quot;dashArray&quot;: null, &quot;dashOffset&quot;: null, &quot;fill&quot;: true, &quot;fillColor&quot;: &quot;#d35400&quot;, &quot;fillOpacity&quot;: 0.2, &quot;fillRule&quot;: &quot;evenodd&quot;, &quot;lineCap&quot;: &quot;round&quot;, &quot;lineJoin&quot;: &quot;round&quot;, &quot;opacity&quot;: 1.0, &quot;radius&quot;: 1000, &quot;stroke&quot;: true, &quot;weight&quot;: 3}\n",
       "            ).addTo(map_82ac103a6ae10528ac18a12e9d351d11);\n",
       "        \n",
       "    \n",
       "        var popup_9f975cfcc0738ee03d2d2d8bc07f364c = L.popup({&quot;maxWidth&quot;: &quot;100%&quot;});\n",
       "\n",
       "        \n",
       "            \n",
       "                var html_2085ec70a83091dd10f5ab15f4417021 = $(`&lt;div id=&quot;html_2085ec70a83091dd10f5ab15f4417021&quot; style=&quot;width: 100.0%; height: 100.0%;&quot;&gt;NASA Johnson Space Center&lt;\/div&gt;`)[0];\n",
       "                popup_9f975cfcc0738ee03d2d2d8bc07f364c.setContent(html_2085ec70a83091dd10f5ab15f4417021);\n",
       "            \n",
       "        \n",
       "\n",
       "        circle_894a463e8334e366e52bc84663d2396b.bindPopup(popup_9f975cfcc0738ee03d2d2d8bc07f364c)\n",
       "        ;\n",
       "\n",
       "        \n",
       "    \n",
       "    \n",
       "            var marker_c470e7f7b484890420ac4f905f01a2a3 = L.marker(\n",
       "                [29.559684888503615, -95.0830971930759],\n",
       "                {}\n",
       "            ).addTo(map_82ac103a6ae10528ac18a12e9d351d11);\n",
       "        \n",
       "    \n",
       "            var div_icon_48cfb14cebf89983719dc60e802dc7fb = L.divIcon({&quot;className&quot;: &quot;empty&quot;, &quot;html&quot;: &quot;\\u003cdiv style=\\&quot;font-size: 12; color:#d35400;\\&quot;\\u003e\\u003cb\\u003eNASA JSC\\u003c\/b\\u003e\\u003c\/div\\u003e&quot;, &quot;iconAnchor&quot;: [0, 0], &quot;iconSize&quot;: [20, 20]});\n",
       "            marker_c470e7f7b484890420ac4f905f01a2a3.setIcon(div_icon_48cfb14cebf89983719dc60e802dc7fb);\n",
       "        \n",
       "&lt;\/script&gt;\n",
       "&lt;\/html&gt;\" style=\"position:absolute;width:100%;height:100%;left:0;top:0;border:none !important;\" allowfullscreen webkitallowfullscreen mozallowfullscreen><\/iframe><\/div><\/div>"
      ]
     },
     "metadata":{},
     "output_type":"display_data"
    }
   ],
   "metadata":{
    "datalore":{
     "node_id":"TG889bMgolXWuZaiJl2ViX",
     "type":"CODE",
     "hide_input_from_viewers":false,
     "hide_output_from_viewers":false,
     "report_properties":{
      "rowId":"81Omdsqp3Fq6WyzGoskSxo"
     }
    }
   }
  },
  {
   "cell_type":"markdown",
   "source":[
    "and you should find a small yellow circle near the city of Houston and you can zoom-in to see a larger circle. "
   ],
   "attachments":{},
   "metadata":{
    "datalore":{
     "node_id":"R91zsRtgBUexsRBysglaq3",
     "type":"MD",
     "hide_input_from_viewers":false,
     "hide_output_from_viewers":false,
     "report_properties":{
      "rowId":"F3lt4lPFxejsgwJYTpMNMq"
     }
    }
   }
  },
  {
   "cell_type":"markdown",
   "source":[
    "Now, let's add a circle for each launch site in data frame `launch_sites`"
   ],
   "attachments":{},
   "metadata":{
    "datalore":{
     "node_id":"b1vINVSkpT71rqX0IUNA2e",
     "type":"MD",
     "hide_input_from_viewers":false,
     "hide_output_from_viewers":false,
     "report_properties":{
      "rowId":"3mQv8THodMNMAMpD3vzEam"
     }
    }
   }
  },
  {
   "cell_type":"markdown",
   "source":[
    "_TODO:_  Create and add `folium.Circle` and `folium.Marker` for each launch site on the site map"
   ],
   "attachments":{},
   "metadata":{
    "datalore":{
     "node_id":"dS4uDEsCiFKTjw1ITSEhaw",
     "type":"MD",
     "hide_input_from_viewers":false,
     "hide_output_from_viewers":false,
     "report_properties":{
      "rowId":"t6nYjIlXTB56WdJ1arIR8T"
     }
    }
   }
  },
  {
   "cell_type":"markdown",
   "source":[
    "An example of folium.Circle:"
   ],
   "attachments":{},
   "metadata":{
    "datalore":{
     "node_id":"84QbeSv6Ocx6nYqkqVhhMI",
     "type":"MD",
     "hide_input_from_viewers":false,
     "hide_output_from_viewers":false,
     "report_properties":{
      "rowId":"nddEgCNLzkGheq0Ee2OZUN"
     }
    }
   }
  },
  {
   "cell_type":"markdown",
   "source":[
    "`folium.Circle(coordinate, radius=1000, color='#000000', fill=True).add_child(folium.Popup(...))`"
   ],
   "attachments":{},
   "metadata":{
    "datalore":{
     "node_id":"RPvnJLXEiujeZgSdhUzbpH",
     "type":"MD",
     "hide_input_from_viewers":false,
     "hide_output_from_viewers":false,
     "report_properties":{
      "rowId":"ahBrp0b4sIjj79nGUITr2P"
     }
    }
   }
  },
  {
   "cell_type":"markdown",
   "source":[
    "An example of folium.Marker:"
   ],
   "attachments":{},
   "metadata":{
    "datalore":{
     "node_id":"eyvJfqOxBdOcZzz9xSGosr",
     "type":"MD",
     "hide_input_from_viewers":false,
     "hide_output_from_viewers":false,
     "report_properties":{
      "rowId":"SsEYpQ7puvAzN1jwWfLNPP"
     }
    }
   }
  },
  {
   "cell_type":"markdown",
   "source":[
    "`folium.map.Marker(coordinate, icon=DivIcon(icon_size=(20,20),icon_anchor=(0,0), html='<div style=\"font-size: 12; color:#d35400;\"><b>%s<\/b><\/div>' % 'label', ))`"
   ],
   "attachments":{},
   "metadata":{
    "datalore":{
     "node_id":"ab0l8ZfNfhJwFFaTdbEURb",
     "type":"MD",
     "hide_input_from_viewers":false,
     "hide_output_from_viewers":false,
     "report_properties":{
      "rowId":"36LDcoM6y9a59YE7ZTVNSO"
     }
    }
   }
  },
  {
   "cell_type":"code",
   "source":[
    "# Initial the map\n",
    "site_map = folium.Map(location=nasa_coordinate, zoom_start=5)\n",
    "# For each launch site, add a Circle object based on its coordinate (Lat, Long) values. In addition, add Launch site name as a popup label"
   ],
   "execution_count":8,
   "outputs":[],
   "metadata":{
    "datalore":{
     "node_id":"zGYiWK7MgXv8wcjdcPtbhk",
     "type":"CODE",
     "hide_input_from_viewers":false,
     "hide_output_from_viewers":false,
     "report_properties":{
      "rowId":"qzN0KU41VA93mvSVB1fzNZ"
     }
    }
   }
  },
  {
   "cell_type":"markdown",
   "source":[
    "The generated map with marked launch sites should look similar to the following:"
   ],
   "attachments":{},
   "metadata":{
    "datalore":{
     "node_id":"ZfnvC6wdTKMiYb4ClNyjci",
     "type":"MD",
     "hide_input_from_viewers":false,
     "hide_output_from_viewers":false,
     "report_properties":{
      "rowId":"IbXPV3W3VmErqUAJZrDyM4"
     }
    }
   }
  },
  {
   "cell_type":"markdown",
   "source":[
    "<center>\n",
    "    <img src=\"https:\/\/cf-courses-data.s3.us.cloud-object-storage.appdomain.cloud\/IBM-DS0321EN-SkillsNetwork\/labs\/module_3\/images\/launch_site_markers.png\">\n",
    "<\/center>"
   ],
   "attachments":{},
   "metadata":{
    "datalore":{
     "node_id":"OUIHDsk1Hwno3YmkVUEKXX",
     "type":"MD",
     "hide_input_from_viewers":false,
     "hide_output_from_viewers":false,
     "report_properties":{
      "rowId":"1e8Sz0aylSCILqn3D44ml2"
     }
    }
   }
  },
  {
   "cell_type":"markdown",
   "source":[
    "Now, you can explore the map by zoom-in\/out the marked areas\n",
    ", and try to answer the following questions:\n",
    "- Are all launch sites in proximity to the Equator line?\n",
    "- Are all launch sites in very close proximity to the coast?\n",
    "\n",
    "Also please try to explain your findings."
   ],
   "attachments":{},
   "metadata":{
    "datalore":{
     "node_id":"s5vPKtm09gmdxNp12ZqmSc",
     "type":"MD",
     "hide_input_from_viewers":false,
     "hide_output_from_viewers":false,
     "report_properties":{
      "rowId":"N2K5DPz2CCVRu6GnNjeICR"
     }
    }
   }
  },
  {
   "cell_type":"markdown",
   "source":[
    "# Task 2: Mark the success\/failed launches for each site on the map"
   ],
   "attachments":{},
   "metadata":{
    "datalore":{
     "node_id":"NSC9j5a4VUiQ89Lv6aEI4B",
     "type":"MD",
     "hide_input_from_viewers":false,
     "hide_output_from_viewers":false,
     "report_properties":{
      "rowId":"Qe3q652Rp5JZJTn8gbYrLx"
     }
    }
   }
  },
  {
   "cell_type":"markdown",
   "source":[
    "Next, let's try to enhance the map by adding the launch outcomes for each site, and see which sites have high success rates.\n",
    "Recall that data frame spacex_df has detailed launch records, and the `class` column indicates if this launch was successful or not"
   ],
   "attachments":{},
   "metadata":{
    "datalore":{
     "node_id":"EnsGWNRpnmfm0aPjAIaKAn",
     "type":"MD",
     "hide_input_from_viewers":false,
     "hide_output_from_viewers":false,
     "report_properties":{
      "rowId":"fPI6c4WU7Akm142SviDkQO"
     }
    }
   }
  },
  {
   "cell_type":"code",
   "source":[
    "spacex_df.tail(10)"
   ],
   "execution_count":9,
   "outputs":[
    {
     "data":{
      "text\/html":[
       "<div>\n",
       "<style scoped>\n",
       "    .dataframe tbody tr th:only-of-type {\n",
       "        vertical-align: middle;\n",
       "    }\n",
       "\n",
       "    .dataframe tbody tr th {\n",
       "        vertical-align: top;\n",
       "    }\n",
       "\n",
       "    .dataframe thead th {\n",
       "        text-align: right;\n",
       "    }\n",
       "<\/style>\n",
       "<table border=\"1\" class=\"dataframe\">\n",
       "  <thead>\n",
       "    <tr style=\"text-align: right;\">\n",
       "      <th><\/th>\n",
       "      <th>Launch Site<\/th>\n",
       "      <th>Lat<\/th>\n",
       "      <th>Long<\/th>\n",
       "      <th>class<\/th>\n",
       "    <\/tr>\n",
       "  <\/thead>\n",
       "  <tbody>\n",
       "    <tr>\n",
       "      <th>46<\/th>\n",
       "      <td>KSC LC-39A<\/td>\n",
       "      <td>28.573255<\/td>\n",
       "      <td>-80.646895<\/td>\n",
       "      <td>1<\/td>\n",
       "    <\/tr>\n",
       "    <tr>\n",
       "      <th>47<\/th>\n",
       "      <td>KSC LC-39A<\/td>\n",
       "      <td>28.573255<\/td>\n",
       "      <td>-80.646895<\/td>\n",
       "      <td>1<\/td>\n",
       "    <\/tr>\n",
       "    <tr>\n",
       "      <th>48<\/th>\n",
       "      <td>KSC LC-39A<\/td>\n",
       "      <td>28.573255<\/td>\n",
       "      <td>-80.646895<\/td>\n",
       "      <td>1<\/td>\n",
       "    <\/tr>\n",
       "    <tr>\n",
       "      <th>49<\/th>\n",
       "      <td>CCAFS SLC-40<\/td>\n",
       "      <td>28.563197<\/td>\n",
       "      <td>-80.576820<\/td>\n",
       "      <td>1<\/td>\n",
       "    <\/tr>\n",
       "    <tr>\n",
       "      <th>50<\/th>\n",
       "      <td>CCAFS SLC-40<\/td>\n",
       "      <td>28.563197<\/td>\n",
       "      <td>-80.576820<\/td>\n",
       "      <td>1<\/td>\n",
       "    <\/tr>\n",
       "    <tr>\n",
       "      <th>51<\/th>\n",
       "      <td>CCAFS SLC-40<\/td>\n",
       "      <td>28.563197<\/td>\n",
       "      <td>-80.576820<\/td>\n",
       "      <td>0<\/td>\n",
       "    <\/tr>\n",
       "    <tr>\n",
       "      <th>52<\/th>\n",
       "      <td>CCAFS SLC-40<\/td>\n",
       "      <td>28.563197<\/td>\n",
       "      <td>-80.576820<\/td>\n",
       "      <td>0<\/td>\n",
       "    <\/tr>\n",
       "    <tr>\n",
       "      <th>53<\/th>\n",
       "      <td>CCAFS SLC-40<\/td>\n",
       "      <td>28.563197<\/td>\n",
       "      <td>-80.576820<\/td>\n",
       "      <td>0<\/td>\n",
       "    <\/tr>\n",
       "    <tr>\n",
       "      <th>54<\/th>\n",
       "      <td>CCAFS SLC-40<\/td>\n",
       "      <td>28.563197<\/td>\n",
       "      <td>-80.576820<\/td>\n",
       "      <td>1<\/td>\n",
       "    <\/tr>\n",
       "    <tr>\n",
       "      <th>55<\/th>\n",
       "      <td>CCAFS SLC-40<\/td>\n",
       "      <td>28.563197<\/td>\n",
       "      <td>-80.576820<\/td>\n",
       "      <td>0<\/td>\n",
       "    <\/tr>\n",
       "  <\/tbody>\n",
       "<\/table>\n",
       "<\/div>"
      ]
     },
     "metadata":{},
     "output_type":"display_data"
    }
   ],
   "metadata":{
    "datalore":{
     "node_id":"Pv1T9w3s1RWSGx3y7AYAWu",
     "type":"CODE",
     "hide_input_from_viewers":false,
     "hide_output_from_viewers":false,
     "report_properties":{
      "rowId":"upTKelAzckzv62a979iB9N"
     }
    }
   }
  },
  {
   "cell_type":"markdown",
   "source":[
    "Next, let's create markers for all launch records. \n",
    "If a launch was successful `(class=1)`, then we use a green marker and if a launch was failed, we use a red marker `(class=0)`"
   ],
   "attachments":{},
   "metadata":{
    "datalore":{
     "node_id":"EbqQp7GvcKbS4RvtmadKQI",
     "type":"MD",
     "hide_input_from_viewers":false,
     "hide_output_from_viewers":false,
     "report_properties":{
      "rowId":"ExvolHOHdierm0Rt2md5bG"
     }
    }
   }
  },
  {
   "cell_type":"markdown",
   "source":[
    "Note that a launch only happens in one of the four launch sites, which means many launch records will have the exact same coordinate. Marker clusters can be a good way to simplify a map containing many markers having the same coordinate."
   ],
   "attachments":{},
   "metadata":{
    "datalore":{
     "node_id":"ND44qaQ9d49p0lSS3sdIvJ",
     "type":"MD",
     "hide_input_from_viewers":false,
     "hide_output_from_viewers":false,
     "report_properties":{
      "rowId":"XtVTvys1AJHyNhok4MCJ93"
     }
    }
   }
  },
  {
   "cell_type":"markdown",
   "source":[
    "Let's first create a `MarkerCluster` object"
   ],
   "attachments":{},
   "metadata":{
    "datalore":{
     "node_id":"mG4eSzVnERCjWIx639L4Lk",
     "type":"MD",
     "hide_input_from_viewers":false,
     "hide_output_from_viewers":false,
     "report_properties":{
      "rowId":"FxlWQH16SX2uHjqeH5qhC8"
     }
    }
   }
  },
  {
   "cell_type":"code",
   "source":[
    "marker_cluster = MarkerCluster()"
   ],
   "execution_count":10,
   "outputs":[],
   "metadata":{
    "datalore":{
     "node_id":"f4P0nH37DOPAX2jDTwI2pZ",
     "type":"CODE",
     "hide_input_from_viewers":false,
     "hide_output_from_viewers":false,
     "report_properties":{
      "rowId":"G0RZEqdXCGS7UglUtwq12a"
     }
    }
   }
  },
  {
   "cell_type":"markdown",
   "source":[
    "_TODO:_ Create a new column in `launch_sites` dataframe called `marker_color` to store the marker colors based on the `class` value"
   ],
   "attachments":{},
   "metadata":{
    "datalore":{
     "node_id":"thBc6CeonlzrOY1L5PBtwF",
     "type":"MD",
     "hide_input_from_viewers":false,
     "hide_output_from_viewers":false,
     "report_properties":{
      "rowId":"dVE9qQCX9cUsNjyRm62KR4"
     }
    }
   }
  },
  {
   "cell_type":"code",
   "source":[
    "\n",
    "# Apply a function to check the value of `class` column\n",
    "# If class=1, marker_color value will be green\n",
    "# If class=0, marker_color value will be red"
   ],
   "execution_count":11,
   "outputs":[],
   "metadata":{
    "datalore":{
     "node_id":"xrimtzxCOJh5Ydle2NFmfD",
     "type":"CODE",
     "hide_input_from_viewers":false,
     "hide_output_from_viewers":false,
     "report_properties":{
      "rowId":"EJGSWLQddW4ajuA2KBKUPt"
     }
    }
   }
  },
  {
   "cell_type":"code",
   "source":[
    "# Function to assign color to launch outcome\n",
    "def assign_marker_color(launch_outcome):\n",
    "    if launch_outcome == 1:\n",
    "        return 'green'\n",
    "    else:\n",
    "        return 'red'\n",
    "    \n",
    "spacex_df['marker_color'] = spacex_df['class'].apply(assign_marker_color)\n",
    "spacex_df.tail(10)"
   ],
   "execution_count":12,
   "outputs":[
    {
     "data":{
      "text\/html":[
       "<div>\n",
       "<style scoped>\n",
       "    .dataframe tbody tr th:only-of-type {\n",
       "        vertical-align: middle;\n",
       "    }\n",
       "\n",
       "    .dataframe tbody tr th {\n",
       "        vertical-align: top;\n",
       "    }\n",
       "\n",
       "    .dataframe thead th {\n",
       "        text-align: right;\n",
       "    }\n",
       "<\/style>\n",
       "<table border=\"1\" class=\"dataframe\">\n",
       "  <thead>\n",
       "    <tr style=\"text-align: right;\">\n",
       "      <th><\/th>\n",
       "      <th>Launch Site<\/th>\n",
       "      <th>Lat<\/th>\n",
       "      <th>Long<\/th>\n",
       "      <th>class<\/th>\n",
       "      <th>marker_color<\/th>\n",
       "    <\/tr>\n",
       "  <\/thead>\n",
       "  <tbody>\n",
       "    <tr>\n",
       "      <th>46<\/th>\n",
       "      <td>KSC LC-39A<\/td>\n",
       "      <td>28.573255<\/td>\n",
       "      <td>-80.646895<\/td>\n",
       "      <td>1<\/td>\n",
       "      <td>green<\/td>\n",
       "    <\/tr>\n",
       "    <tr>\n",
       "      <th>47<\/th>\n",
       "      <td>KSC LC-39A<\/td>\n",
       "      <td>28.573255<\/td>\n",
       "      <td>-80.646895<\/td>\n",
       "      <td>1<\/td>\n",
       "      <td>green<\/td>\n",
       "    <\/tr>\n",
       "    <tr>\n",
       "      <th>48<\/th>\n",
       "      <td>KSC LC-39A<\/td>\n",
       "      <td>28.573255<\/td>\n",
       "      <td>-80.646895<\/td>\n",
       "      <td>1<\/td>\n",
       "      <td>green<\/td>\n",
       "    <\/tr>\n",
       "    <tr>\n",
       "      <th>49<\/th>\n",
       "      <td>CCAFS SLC-40<\/td>\n",
       "      <td>28.563197<\/td>\n",
       "      <td>-80.576820<\/td>\n",
       "      <td>1<\/td>\n",
       "      <td>green<\/td>\n",
       "    <\/tr>\n",
       "    <tr>\n",
       "      <th>50<\/th>\n",
       "      <td>CCAFS SLC-40<\/td>\n",
       "      <td>28.563197<\/td>\n",
       "      <td>-80.576820<\/td>\n",
       "      <td>1<\/td>\n",
       "      <td>green<\/td>\n",
       "    <\/tr>\n",
       "    <tr>\n",
       "      <th>51<\/th>\n",
       "      <td>CCAFS SLC-40<\/td>\n",
       "      <td>28.563197<\/td>\n",
       "      <td>-80.576820<\/td>\n",
       "      <td>0<\/td>\n",
       "      <td>red<\/td>\n",
       "    <\/tr>\n",
       "    <tr>\n",
       "      <th>52<\/th>\n",
       "      <td>CCAFS SLC-40<\/td>\n",
       "      <td>28.563197<\/td>\n",
       "      <td>-80.576820<\/td>\n",
       "      <td>0<\/td>\n",
       "      <td>red<\/td>\n",
       "    <\/tr>\n",
       "    <tr>\n",
       "      <th>53<\/th>\n",
       "      <td>CCAFS SLC-40<\/td>\n",
       "      <td>28.563197<\/td>\n",
       "      <td>-80.576820<\/td>\n",
       "      <td>0<\/td>\n",
       "      <td>red<\/td>\n",
       "    <\/tr>\n",
       "    <tr>\n",
       "      <th>54<\/th>\n",
       "      <td>CCAFS SLC-40<\/td>\n",
       "      <td>28.563197<\/td>\n",
       "      <td>-80.576820<\/td>\n",
       "      <td>1<\/td>\n",
       "      <td>green<\/td>\n",
       "    <\/tr>\n",
       "    <tr>\n",
       "      <th>55<\/th>\n",
       "      <td>CCAFS SLC-40<\/td>\n",
       "      <td>28.563197<\/td>\n",
       "      <td>-80.576820<\/td>\n",
       "      <td>0<\/td>\n",
       "      <td>red<\/td>\n",
       "    <\/tr>\n",
       "  <\/tbody>\n",
       "<\/table>\n",
       "<\/div>"
      ]
     },
     "metadata":{},
     "output_type":"display_data"
    }
   ],
   "metadata":{
    "datalore":{
     "node_id":"7o3K4PFJfifXLZhyZAtOMM",
     "type":"CODE",
     "hide_input_from_viewers":false,
     "hide_output_from_viewers":false,
     "report_properties":{
      "rowId":"czB2Zwc2zMPHrBiitdvwCn"
     }
    }
   }
  },
  {
   "cell_type":"markdown",
   "source":[
    "_TODO:_ For each launch result in `spacex_df` data frame, add a `folium.Marker` to `marker_cluster`"
   ],
   "attachments":{},
   "metadata":{
    "datalore":{
     "node_id":"caDHSmuousmrpfHsUQqspX",
     "type":"MD",
     "hide_input_from_viewers":false,
     "hide_output_from_viewers":false,
     "report_properties":{
      "rowId":"Xh1HnHXOsiUMWDKJp0Bh5L"
     }
    }
   }
  },
  {
   "cell_type":"code",
   "source":[
    "# Add marker_cluster to current site_map\n",
    "site_map.add_child(marker_cluster)\n",
    "\n",
    "# for each row in spacex_df data frame\n",
    "# create a Marker object with its coordinate\n",
    "# and customize the Marker's icon property to indicate if this launch was successed or failed, \n",
    "# e.g., icon=folium.Icon(color='white', icon_color=row['marker_color']\n",
    "for index, record in spacex_df.iterrows():\n",
    "    # TODO: Create and add a Marker cluster to the site map\n",
    "    # marker = folium.Marker(...)\n",
    "    marker_cluster.add_child(marker)\n",
    "\n",
    "site_map"
   ],
   "execution_count":13,
   "outputs":[
    {
     "data":{
      "text\/html":[
       "<div style=\"width:100%;\"><div style=\"position:relative;width:100%;height:0;padding-bottom:60%;\"><span style=\"color:#565656\">Make this Notebook Trusted to load map: File -> Trust Notebook<\/span><iframe srcdoc=\"&lt;!DOCTYPE html&gt;\n",
       "&lt;html&gt;\n",
       "&lt;head&gt;\n",
       "    \n",
       "    &lt;meta http-equiv=&quot;content-type&quot; content=&quot;text\/html; charset=UTF-8&quot; \/&gt;\n",
       "    \n",
       "        &lt;script&gt;\n",
       "            L_NO_TOUCH = false;\n",
       "            L_DISABLE_3D = false;\n",
       "        &lt;\/script&gt;\n",
       "    \n",
       "    &lt;style&gt;html, body {width: 100%;height: 100%;margin: 0;padding: 0;}&lt;\/style&gt;\n",
       "    &lt;style&gt;#map {position:absolute;top:0;bottom:0;right:0;left:0;}&lt;\/style&gt;\n",
       "    &lt;script src=&quot;https:\/\/cdn.jsdelivr.net\/npm\/leaflet@1.9.3\/dist\/leaflet.js&quot;&gt;&lt;\/script&gt;\n",
       "    &lt;script src=&quot;https:\/\/code.jquery.com\/jquery-3.7.1.min.js&quot;&gt;&lt;\/script&gt;\n",
       "    &lt;script src=&quot;https:\/\/cdn.jsdelivr.net\/npm\/bootstrap@5.2.2\/dist\/js\/bootstrap.bundle.min.js&quot;&gt;&lt;\/script&gt;\n",
       "    &lt;script src=&quot;https:\/\/cdnjs.cloudflare.com\/ajax\/libs\/Leaflet.awesome-markers\/2.0.2\/leaflet.awesome-markers.js&quot;&gt;&lt;\/script&gt;\n",
       "    &lt;link rel=&quot;stylesheet&quot; href=&quot;https:\/\/cdn.jsdelivr.net\/npm\/leaflet@1.9.3\/dist\/leaflet.css&quot;\/&gt;\n",
       "    &lt;link rel=&quot;stylesheet&quot; href=&quot;https:\/\/cdn.jsdelivr.net\/npm\/bootstrap@5.2.2\/dist\/css\/bootstrap.min.css&quot;\/&gt;\n",
       "    &lt;link rel=&quot;stylesheet&quot; href=&quot;https:\/\/netdna.bootstrapcdn.com\/bootstrap\/3.0.0\/css\/bootstrap-glyphicons.css&quot;\/&gt;\n",
       "    &lt;link rel=&quot;stylesheet&quot; href=&quot;https:\/\/cdn.jsdelivr.net\/npm\/@fortawesome\/fontawesome-free@6.2.0\/css\/all.min.css&quot;\/&gt;\n",
       "    &lt;link rel=&quot;stylesheet&quot; href=&quot;https:\/\/cdnjs.cloudflare.com\/ajax\/libs\/Leaflet.awesome-markers\/2.0.2\/leaflet.awesome-markers.css&quot;\/&gt;\n",
       "    &lt;link rel=&quot;stylesheet&quot; href=&quot;https:\/\/cdn.jsdelivr.net\/gh\/python-visualization\/folium\/folium\/templates\/leaflet.awesome.rotate.min.css&quot;\/&gt;\n",
       "    \n",
       "            &lt;meta name=&quot;viewport&quot; content=&quot;width=device-width,\n",
       "                initial-scale=1.0, maximum-scale=1.0, user-scalable=no&quot; \/&gt;\n",
       "            &lt;style&gt;\n",
       "                #map_a7541c7a8b1d353e7b5865456e9e05ba {\n",
       "                    position: relative;\n",
       "                    width: 100.0%;\n",
       "                    height: 100.0%;\n",
       "                    left: 0.0%;\n",
       "                    top: 0.0%;\n",
       "                }\n",
       "                .leaflet-container { font-size: 1rem; }\n",
       "            &lt;\/style&gt;\n",
       "        \n",
       "    &lt;script src=&quot;https:\/\/cdnjs.cloudflare.com\/ajax\/libs\/leaflet.markercluster\/1.1.0\/leaflet.markercluster.js&quot;&gt;&lt;\/script&gt;\n",
       "    &lt;link rel=&quot;stylesheet&quot; href=&quot;https:\/\/cdnjs.cloudflare.com\/ajax\/libs\/leaflet.markercluster\/1.1.0\/MarkerCluster.css&quot;\/&gt;\n",
       "    &lt;link rel=&quot;stylesheet&quot; href=&quot;https:\/\/cdnjs.cloudflare.com\/ajax\/libs\/leaflet.markercluster\/1.1.0\/MarkerCluster.Default.css&quot;\/&gt;\n",
       "&lt;\/head&gt;\n",
       "&lt;body&gt;\n",
       "    \n",
       "    \n",
       "            &lt;div class=&quot;folium-map&quot; id=&quot;map_a7541c7a8b1d353e7b5865456e9e05ba&quot; &gt;&lt;\/div&gt;\n",
       "        \n",
       "&lt;\/body&gt;\n",
       "&lt;script&gt;\n",
       "    \n",
       "    \n",
       "            var map_a7541c7a8b1d353e7b5865456e9e05ba = L.map(\n",
       "                &quot;map_a7541c7a8b1d353e7b5865456e9e05ba&quot;,\n",
       "                {\n",
       "                    center: [29.559684888503615, -95.0830971930759],\n",
       "                    crs: L.CRS.EPSG3857,\n",
       "                    zoom: 5,\n",
       "                    zoomControl: true,\n",
       "                    preferCanvas: false,\n",
       "                }\n",
       "            );\n",
       "\n",
       "            \n",
       "\n",
       "        \n",
       "    \n",
       "            var tile_layer_58bb294070887ab5670278a6bbfc05ce = L.tileLayer(\n",
       "                &quot;https:\/\/tile.openstreetmap.org\/{z}\/{x}\/{y}.png&quot;,\n",
       "                {&quot;attribution&quot;: &quot;\\u0026copy; \\u003ca href=\\&quot;https:\/\/www.openstreetmap.org\/copyright\\&quot;\\u003eOpenStreetMap\\u003c\/a\\u003e contributors&quot;, &quot;detectRetina&quot;: false, &quot;maxNativeZoom&quot;: 19, &quot;maxZoom&quot;: 19, &quot;minZoom&quot;: 0, &quot;noWrap&quot;: false, &quot;opacity&quot;: 1, &quot;subdomains&quot;: &quot;abc&quot;, &quot;tms&quot;: false}\n",
       "            );\n",
       "        \n",
       "    \n",
       "            tile_layer_58bb294070887ab5670278a6bbfc05ce.addTo(map_a7541c7a8b1d353e7b5865456e9e05ba);\n",
       "        \n",
       "    \n",
       "            var marker_cluster_7b65e8d368ff538ad0e957a4272a2654 = L.markerClusterGroup(\n",
       "                {}\n",
       "            );\n",
       "        \n",
       "    \n",
       "            var marker_c470e7f7b484890420ac4f905f01a2a3 = L.marker(\n",
       "                [29.559684888503615, -95.0830971930759],\n",
       "                {}\n",
       "            ).addTo(marker_cluster_7b65e8d368ff538ad0e957a4272a2654);\n",
       "        \n",
       "    \n",
       "            var div_icon_48cfb14cebf89983719dc60e802dc7fb = L.divIcon({&quot;className&quot;: &quot;empty&quot;, &quot;html&quot;: &quot;\\u003cdiv style=\\&quot;font-size: 12; color:#d35400;\\&quot;\\u003e\\u003cb\\u003eNASA JSC\\u003c\/b\\u003e\\u003c\/div\\u003e&quot;, &quot;iconAnchor&quot;: [0, 0], &quot;iconSize&quot;: [20, 20]});\n",
       "            marker_c470e7f7b484890420ac4f905f01a2a3.setIcon(div_icon_48cfb14cebf89983719dc60e802dc7fb);\n",
       "        \n",
       "    \n",
       "            marker_cluster_7b65e8d368ff538ad0e957a4272a2654.addTo(map_a7541c7a8b1d353e7b5865456e9e05ba);\n",
       "        \n",
       "&lt;\/script&gt;\n",
       "&lt;\/html&gt;\" style=\"position:absolute;width:100%;height:100%;left:0;top:0;border:none !important;\" allowfullscreen webkitallowfullscreen mozallowfullscreen><\/iframe><\/div><\/div>"
      ]
     },
     "metadata":{},
     "output_type":"display_data"
    }
   ],
   "metadata":{
    "datalore":{
     "node_id":"wICR5Ld0Rm3KhTd1IUVqV4",
     "type":"CODE",
     "hide_input_from_viewers":false,
     "hide_output_from_viewers":false,
     "report_properties":{
      "rowId":"IeX7hQMtiGaE9nO8h0t4Pc"
     }
    }
   }
  },
  {
   "cell_type":"markdown",
   "source":[
    "Your updated map may look like the following screenshots:"
   ],
   "attachments":{},
   "metadata":{
    "datalore":{
     "node_id":"y4m95qY0BkLhxtifUbnZyd",
     "type":"MD",
     "hide_input_from_viewers":false,
     "hide_output_from_viewers":false,
     "report_properties":{
      "rowId":"jSz97VIvcB0AwA66bCSS2i"
     }
    }
   }
  },
  {
   "cell_type":"markdown",
   "source":[
    "<center>\n",
    "    <img src=\"https:\/\/cf-courses-data.s3.us.cloud-object-storage.appdomain.cloud\/IBM-DS0321EN-SkillsNetwork\/labs\/module_3\/images\/launch_site_marker_cluster.png\">\n",
    "<\/center>"
   ],
   "attachments":{},
   "metadata":{
    "datalore":{
     "node_id":"6kqVmrXKCnsZMvKxKn1tCL",
     "type":"MD",
     "hide_input_from_viewers":false,
     "hide_output_from_viewers":false,
     "report_properties":{
      "rowId":"fYwUeUC3NzZw4ccUrCbqwN"
     }
    }
   }
  },
  {
   "cell_type":"markdown",
   "source":[
    "<center>\n",
    "    <img src=\"https:\/\/cf-courses-data.s3.us.cloud-object-storage.appdomain.cloud\/IBM-DS0321EN-SkillsNetwork\/labs\/module_3\/images\/launch_site_marker_cluster_zoomed.png\">\n",
    "<\/center>"
   ],
   "attachments":{},
   "metadata":{
    "datalore":{
     "node_id":"XmHiu6bqeBih11M1jdjU3a",
     "type":"MD",
     "hide_input_from_viewers":false,
     "hide_output_from_viewers":false,
     "report_properties":{
      "rowId":"PqavruDFFziHG1o4Sh9IvB"
     }
    }
   }
  },
  {
   "cell_type":"markdown",
   "source":[
    "From the color-labeled markers in marker clusters, you should be able to easily identify which launch sites have relatively high success rates."
   ],
   "attachments":{},
   "metadata":{
    "datalore":{
     "node_id":"8WE1SbN06ebuIjuA3xcNi1",
     "type":"MD",
     "hide_input_from_viewers":false,
     "hide_output_from_viewers":false,
     "report_properties":{
      "rowId":"YTSAG8XoOEu6PV35UI0tUp"
     }
    }
   }
  },
  {
   "cell_type":"markdown",
   "source":[
    "# TASK 3: Calculate the distances between a launch site to its proximities"
   ],
   "attachments":{},
   "metadata":{
    "datalore":{
     "node_id":"lIvc9WH5CIlC5iKpNaAraL",
     "type":"MD",
     "hide_input_from_viewers":false,
     "hide_output_from_viewers":false,
     "report_properties":{
      "rowId":"tFfTxtWbWP0jrFyoWLm1A0"
     }
    }
   }
  },
  {
   "cell_type":"markdown",
   "source":[
    "Next, we need to explore and analyze the proximities of launch sites."
   ],
   "attachments":{},
   "metadata":{
    "datalore":{
     "node_id":"fOV219i9WBzsAJJ7CiI2zf",
     "type":"MD",
     "hide_input_from_viewers":false,
     "hide_output_from_viewers":false,
     "report_properties":{
      "rowId":"I7jEdpG76ALxxVq2TjPJsn"
     }
    }
   }
  },
  {
   "cell_type":"markdown",
   "source":[
    "Let's first add a `MousePosition` on the map to get coordinate for a mouse over a point on the map. As such, while you are exploring the map, you can easily find the coordinates of any points of interests (such as railway)"
   ],
   "attachments":{},
   "metadata":{
    "datalore":{
     "node_id":"YfPw7uFfVvnUfdVpGfFcWE",
     "type":"MD",
     "hide_input_from_viewers":false,
     "hide_output_from_viewers":false,
     "report_properties":{
      "rowId":"Qw6bSvArRn73sqVomz8Kxm"
     }
    }
   }
  },
  {
   "cell_type":"code",
   "source":[
    "# Add Mouse Position to get the coordinate (Lat, Long) for a mouse over on the map\n",
    "formatter = \"function(num) {return L.Util.formatNum(num, 5);};\"\n",
    "mouse_position = MousePosition(\n",
    "    position='topright',\n",
    "    separator=' Long: ',\n",
    "    empty_string='NaN',\n",
    "    lng_first=False,\n",
    "    num_digits=20,\n",
    "    prefix='Lat:',\n",
    "    lat_formatter=formatter,\n",
    "    lng_formatter=formatter,\n",
    ")\n",
    "\n",
    "site_map.add_child(mouse_position)\n",
    "site_map"
   ],
   "execution_count":14,
   "outputs":[
    {
     "data":{
      "text\/html":[
       "<div style=\"width:100%;\"><div style=\"position:relative;width:100%;height:0;padding-bottom:60%;\"><span style=\"color:#565656\">Make this Notebook Trusted to load map: File -> Trust Notebook<\/span><iframe srcdoc=\"&lt;!DOCTYPE html&gt;\n",
       "&lt;html&gt;\n",
       "&lt;head&gt;\n",
       "    \n",
       "    &lt;meta http-equiv=&quot;content-type&quot; content=&quot;text\/html; charset=UTF-8&quot; \/&gt;\n",
       "    \n",
       "        &lt;script&gt;\n",
       "            L_NO_TOUCH = false;\n",
       "            L_DISABLE_3D = false;\n",
       "        &lt;\/script&gt;\n",
       "    \n",
       "    &lt;style&gt;html, body {width: 100%;height: 100%;margin: 0;padding: 0;}&lt;\/style&gt;\n",
       "    &lt;style&gt;#map {position:absolute;top:0;bottom:0;right:0;left:0;}&lt;\/style&gt;\n",
       "    &lt;script src=&quot;https:\/\/cdn.jsdelivr.net\/npm\/leaflet@1.9.3\/dist\/leaflet.js&quot;&gt;&lt;\/script&gt;\n",
       "    &lt;script src=&quot;https:\/\/code.jquery.com\/jquery-3.7.1.min.js&quot;&gt;&lt;\/script&gt;\n",
       "    &lt;script src=&quot;https:\/\/cdn.jsdelivr.net\/npm\/bootstrap@5.2.2\/dist\/js\/bootstrap.bundle.min.js&quot;&gt;&lt;\/script&gt;\n",
       "    &lt;script src=&quot;https:\/\/cdnjs.cloudflare.com\/ajax\/libs\/Leaflet.awesome-markers\/2.0.2\/leaflet.awesome-markers.js&quot;&gt;&lt;\/script&gt;\n",
       "    &lt;link rel=&quot;stylesheet&quot; href=&quot;https:\/\/cdn.jsdelivr.net\/npm\/leaflet@1.9.3\/dist\/leaflet.css&quot;\/&gt;\n",
       "    &lt;link rel=&quot;stylesheet&quot; href=&quot;https:\/\/cdn.jsdelivr.net\/npm\/bootstrap@5.2.2\/dist\/css\/bootstrap.min.css&quot;\/&gt;\n",
       "    &lt;link rel=&quot;stylesheet&quot; href=&quot;https:\/\/netdna.bootstrapcdn.com\/bootstrap\/3.0.0\/css\/bootstrap-glyphicons.css&quot;\/&gt;\n",
       "    &lt;link rel=&quot;stylesheet&quot; href=&quot;https:\/\/cdn.jsdelivr.net\/npm\/@fortawesome\/fontawesome-free@6.2.0\/css\/all.min.css&quot;\/&gt;\n",
       "    &lt;link rel=&quot;stylesheet&quot; href=&quot;https:\/\/cdnjs.cloudflare.com\/ajax\/libs\/Leaflet.awesome-markers\/2.0.2\/leaflet.awesome-markers.css&quot;\/&gt;\n",
       "    &lt;link rel=&quot;stylesheet&quot; href=&quot;https:\/\/cdn.jsdelivr.net\/gh\/python-visualization\/folium\/folium\/templates\/leaflet.awesome.rotate.min.css&quot;\/&gt;\n",
       "    \n",
       "            &lt;meta name=&quot;viewport&quot; content=&quot;width=device-width,\n",
       "                initial-scale=1.0, maximum-scale=1.0, user-scalable=no&quot; \/&gt;\n",
       "            &lt;style&gt;\n",
       "                #map_a7541c7a8b1d353e7b5865456e9e05ba {\n",
       "                    position: relative;\n",
       "                    width: 100.0%;\n",
       "                    height: 100.0%;\n",
       "                    left: 0.0%;\n",
       "                    top: 0.0%;\n",
       "                }\n",
       "                .leaflet-container { font-size: 1rem; }\n",
       "            &lt;\/style&gt;\n",
       "        \n",
       "    &lt;script src=&quot;https:\/\/cdnjs.cloudflare.com\/ajax\/libs\/leaflet.markercluster\/1.1.0\/leaflet.markercluster.js&quot;&gt;&lt;\/script&gt;\n",
       "    &lt;link rel=&quot;stylesheet&quot; href=&quot;https:\/\/cdnjs.cloudflare.com\/ajax\/libs\/leaflet.markercluster\/1.1.0\/MarkerCluster.css&quot;\/&gt;\n",
       "    &lt;link rel=&quot;stylesheet&quot; href=&quot;https:\/\/cdnjs.cloudflare.com\/ajax\/libs\/leaflet.markercluster\/1.1.0\/MarkerCluster.Default.css&quot;\/&gt;\n",
       "    &lt;script src=&quot;https:\/\/cdn.jsdelivr.net\/gh\/ardhi\/Leaflet.MousePosition\/src\/L.Control.MousePosition.min.js&quot;&gt;&lt;\/script&gt;\n",
       "    &lt;link rel=&quot;stylesheet&quot; href=&quot;https:\/\/cdn.jsdelivr.net\/gh\/ardhi\/Leaflet.MousePosition\/src\/L.Control.MousePosition.min.css&quot;\/&gt;\n",
       "&lt;\/head&gt;\n",
       "&lt;body&gt;\n",
       "    \n",
       "    \n",
       "            &lt;div class=&quot;folium-map&quot; id=&quot;map_a7541c7a8b1d353e7b5865456e9e05ba&quot; &gt;&lt;\/div&gt;\n",
       "        \n",
       "&lt;\/body&gt;\n",
       "&lt;script&gt;\n",
       "    \n",
       "    \n",
       "            var map_a7541c7a8b1d353e7b5865456e9e05ba = L.map(\n",
       "                &quot;map_a7541c7a8b1d353e7b5865456e9e05ba&quot;,\n",
       "                {\n",
       "                    center: [29.559684888503615, -95.0830971930759],\n",
       "                    crs: L.CRS.EPSG3857,\n",
       "                    zoom: 5,\n",
       "                    zoomControl: true,\n",
       "                    preferCanvas: false,\n",
       "                }\n",
       "            );\n",
       "\n",
       "            \n",
       "\n",
       "        \n",
       "    \n",
       "            var tile_layer_58bb294070887ab5670278a6bbfc05ce = L.tileLayer(\n",
       "                &quot;https:\/\/tile.openstreetmap.org\/{z}\/{x}\/{y}.png&quot;,\n",
       "                {&quot;attribution&quot;: &quot;\\u0026copy; \\u003ca href=\\&quot;https:\/\/www.openstreetmap.org\/copyright\\&quot;\\u003eOpenStreetMap\\u003c\/a\\u003e contributors&quot;, &quot;detectRetina&quot;: false, &quot;maxNativeZoom&quot;: 19, &quot;maxZoom&quot;: 19, &quot;minZoom&quot;: 0, &quot;noWrap&quot;: false, &quot;opacity&quot;: 1, &quot;subdomains&quot;: &quot;abc&quot;, &quot;tms&quot;: false}\n",
       "            );\n",
       "        \n",
       "    \n",
       "            tile_layer_58bb294070887ab5670278a6bbfc05ce.addTo(map_a7541c7a8b1d353e7b5865456e9e05ba);\n",
       "        \n",
       "    \n",
       "            var marker_cluster_7b65e8d368ff538ad0e957a4272a2654 = L.markerClusterGroup(\n",
       "                {}\n",
       "            );\n",
       "        \n",
       "    \n",
       "            var marker_c470e7f7b484890420ac4f905f01a2a3 = L.marker(\n",
       "                [29.559684888503615, -95.0830971930759],\n",
       "                {}\n",
       "            ).addTo(marker_cluster_7b65e8d368ff538ad0e957a4272a2654);\n",
       "        \n",
       "    \n",
       "            var div_icon_48cfb14cebf89983719dc60e802dc7fb = L.divIcon({&quot;className&quot;: &quot;empty&quot;, &quot;html&quot;: &quot;\\u003cdiv style=\\&quot;font-size: 12; color:#d35400;\\&quot;\\u003e\\u003cb\\u003eNASA JSC\\u003c\/b\\u003e\\u003c\/div\\u003e&quot;, &quot;iconAnchor&quot;: [0, 0], &quot;iconSize&quot;: [20, 20]});\n",
       "            marker_c470e7f7b484890420ac4f905f01a2a3.setIcon(div_icon_48cfb14cebf89983719dc60e802dc7fb);\n",
       "        \n",
       "    \n",
       "            marker_cluster_7b65e8d368ff538ad0e957a4272a2654.addTo(map_a7541c7a8b1d353e7b5865456e9e05ba);\n",
       "        \n",
       "    \n",
       "            tile_layer_58bb294070887ab5670278a6bbfc05ce.addTo(map_a7541c7a8b1d353e7b5865456e9e05ba);\n",
       "        \n",
       "    \n",
       "            marker_cluster_7b65e8d368ff538ad0e957a4272a2654.addTo(map_a7541c7a8b1d353e7b5865456e9e05ba);\n",
       "        \n",
       "    \n",
       "            var mouse_position_93fcceb0f18aefc6d43ff7cfd4d35ca7 = new L.Control.MousePosition(\n",
       "                {&quot;emptyString&quot;: &quot;NaN&quot;, &quot;lngFirst&quot;: false, &quot;numDigits&quot;: 20, &quot;position&quot;: &quot;topright&quot;, &quot;prefix&quot;: &quot;Lat:&quot;, &quot;separator&quot;: &quot; Long: &quot;}\n",
       "            );\n",
       "            mouse_position_93fcceb0f18aefc6d43ff7cfd4d35ca7.options[&quot;latFormatter&quot;] =\n",
       "                function(num) {return L.Util.formatNum(num, 5);};;\n",
       "            mouse_position_93fcceb0f18aefc6d43ff7cfd4d35ca7.options[&quot;lngFormatter&quot;] =\n",
       "                function(num) {return L.Util.formatNum(num, 5);};;\n",
       "            map_a7541c7a8b1d353e7b5865456e9e05ba.addControl(mouse_position_93fcceb0f18aefc6d43ff7cfd4d35ca7);\n",
       "        \n",
       "&lt;\/script&gt;\n",
       "&lt;\/html&gt;\" style=\"position:absolute;width:100%;height:100%;left:0;top:0;border:none !important;\" allowfullscreen webkitallowfullscreen mozallowfullscreen><\/iframe><\/div><\/div>"
      ]
     },
     "metadata":{},
     "output_type":"display_data"
    }
   ],
   "metadata":{
    "datalore":{
     "node_id":"dCfOMT8J6jFzU8YAGDdNeD",
     "type":"CODE",
     "hide_input_from_viewers":false,
     "hide_output_from_viewers":false,
     "report_properties":{
      "rowId":"zOyP4xJcqsrvG2rVRPyhmz"
     }
    }
   }
  },
  {
   "cell_type":"markdown",
   "source":[
    "Now zoom in to a launch site and explore its proximity to see if you can easily find any railway, highway, coastline, etc. Move your mouse to these points and mark down their coordinates (shown on the top-left) in order to the distance to the launch site."
   ],
   "attachments":{},
   "metadata":{
    "datalore":{
     "node_id":"bjxYospsBGW3Ksf9hkgbNM",
     "type":"MD",
     "hide_input_from_viewers":false,
     "hide_output_from_viewers":false,
     "report_properties":{
      "rowId":"KMnOdL4Z2Befg576tVb57j"
     }
    }
   }
  },
  {
   "cell_type":"markdown",
   "source":[
    "You can calculate the distance between two points on the map based on their `Lat` and `Long` values using the following method:"
   ],
   "attachments":{},
   "metadata":{
    "datalore":{
     "node_id":"kbp3eh0jKyp3YhlqzeDfL5",
     "type":"MD",
     "hide_input_from_viewers":false,
     "hide_output_from_viewers":false,
     "report_properties":{
      "rowId":"CWx51pgLV6yZo8QGKhd6nd"
     }
    }
   }
  },
  {
   "cell_type":"code",
   "source":[
    "from math import sin, cos, sqrt, atan2, radians\n",
    "\n",
    "def calculate_distance(lat1, lon1, lat2, lon2):\n",
    "    # approximate radius of earth in km\n",
    "    R = 6373.0\n",
    "\n",
    "    lat1 = radians(lat1)\n",
    "    lon1 = radians(lon1)\n",
    "    lat2 = radians(lat2)\n",
    "    lon2 = radians(lon2)\n",
    "\n",
    "    dlon = lon2 - lon1\n",
    "    dlat = lat2 - lat1\n",
    "\n",
    "    a = sin(dlat \/ 2)**2 + cos(lat1) * cos(lat2) * sin(dlon \/ 2)**2\n",
    "    c = 2 * atan2(sqrt(a), sqrt(1 - a))\n",
    "\n",
    "    distance = R * c\n",
    "    return distance"
   ],
   "execution_count":15,
   "outputs":[],
   "metadata":{
    "datalore":{
     "node_id":"4vOPNrEk4Z7lQnI7uOEoHx",
     "type":"CODE",
     "hide_input_from_viewers":false,
     "hide_output_from_viewers":false,
     "report_properties":{
      "rowId":"kAptSS9fbrmvpGRqt5Qeke"
     }
    }
   }
  },
  {
   "cell_type":"markdown",
   "source":[
    "_TODO:_ Mark down a point on the closest coastline using MousePosition and calculate the distance between the coastline point and the launch site."
   ],
   "attachments":{},
   "metadata":{
    "datalore":{
     "node_id":"ZyZMRFeSZTJabCr3wZTn7O",
     "type":"MD",
     "hide_input_from_viewers":false,
     "hide_output_from_viewers":false,
     "report_properties":{
      "rowId":"YdiM6Tl0W6mIGTJrgWD76A"
     }
    }
   }
  },
  {
   "cell_type":"code",
   "source":[
    "# find coordinate of the closet coastline\n",
    "# e.g.,: Lat: 28.56367  Lon: -80.57163\n",
    "# distance_coastline = calculate_distance(launch_site_lat, launch_site_lon, coastline_lat, coastline_lon)"
   ],
   "execution_count":16,
   "outputs":[],
   "metadata":{
    "datalore":{
     "node_id":"sYAiOZFw3IZNUssx2Ufcti",
     "type":"CODE",
     "hide_input_from_viewers":false,
     "hide_output_from_viewers":false,
     "report_properties":{
      "rowId":"wtcEWswPQIUytUTXAU1rRv"
     }
    }
   }
  },
  {
   "cell_type":"markdown",
   "source":[
    "_TODO:_ After obtained its coordinate, create a `folium.Marker` to show the distance"
   ],
   "attachments":{},
   "metadata":{
    "datalore":{
     "node_id":"RbFM3o0tSwKfHXa7fJEq5l",
     "type":"MD",
     "hide_input_from_viewers":false,
     "hide_output_from_viewers":false,
     "report_properties":{
      "rowId":"J8SVHlzGFrdmPjTPASJzPn"
     }
    }
   }
  },
  {
   "cell_type":"code",
   "source":[
    "# Create and add a folium.Marker on your selected closest coastline point on the map\n",
    "# Display the distance between coastline point and launch site using the icon property \n",
    "# for example\n",
    "# distance_marker = folium.Marker(\n",
    "#    coordinate,\n",
    "#    icon=DivIcon(\n",
    "#        icon_size=(20,20),\n",
    "#        icon_anchor=(0,0),\n",
    "#        html='<div style=\"font-size: 12; color:#d35400;\"><b>%s<\/b><\/div>' % \"{:10.2f} KM\".format(distance),\n",
    "#        )\n",
    "#    )"
   ],
   "execution_count":17,
   "outputs":[],
   "metadata":{
    "datalore":{
     "node_id":"tbZhkYisXDzA70QGBtUwnT",
     "type":"CODE",
     "hide_input_from_viewers":false,
     "hide_output_from_viewers":false,
     "report_properties":{
      "rowId":"PmMSL4oKunPuaeKoKve3qC"
     }
    }
   }
  },
  {
   "cell_type":"markdown",
   "source":[
    "_TODO:_ Draw a `PolyLine` between a launch site to the selected coastline point"
   ],
   "attachments":{},
   "metadata":{
    "datalore":{
     "node_id":"MxYF0SShDNnxlqq5LVd276",
     "type":"MD",
     "hide_input_from_viewers":false,
     "hide_output_from_viewers":false,
     "report_properties":{
      "rowId":"mmBMigpO12XPALsVt8tDtp"
     }
    }
   }
  },
  {
   "cell_type":"code",
   "source":[
    "# Create a `folium.PolyLine` object using the coastline coordinates and launch site coordinate\n",
    "# lines=folium.PolyLine(locations=coordinates, weight=1)\n",
    "site_map.add_child(lines)"
   ],
   "execution_count":18,
   "outputs":[
    {
     "ename":"NameError",
     "evalue":"NameError: name 'lines' is not defined",
     "traceback":[
      "\u001b[0;31m---------------------------------------------------------------------------",
      "Traceback (most recent call last)",
      "    at line 3 in <module>",
      "NameError: name 'lines' is not defined"
     ],
     "output_type":"error"
    }
   ],
   "metadata":{
    "datalore":{
     "node_id":"lUZa8jMI0AaAboGSEKEBN4",
     "type":"CODE",
     "hide_input_from_viewers":false,
     "hide_output_from_viewers":false,
     "report_properties":{
      "rowId":"Xp4p9cUSePtfqeOmkJz5nI"
     }
    }
   }
  },
  {
   "cell_type":"markdown",
   "source":[
    "Your updated map with distance line should look like the following screenshot:"
   ],
   "attachments":{},
   "metadata":{
    "datalore":{
     "node_id":"eHejwEXM8ec6PcODhkN3YW",
     "type":"MD",
     "hide_input_from_viewers":false,
     "hide_output_from_viewers":false,
     "report_properties":{
      "rowId":"56ZFi1FYzNqE1yDeZGz40s"
     }
    }
   }
  },
  {
   "cell_type":"markdown",
   "source":[
    "<center>\n",
    "    <img src=\"https:\/\/cf-courses-data.s3.us.cloud-object-storage.appdomain.cloud\/IBM-DS0321EN-SkillsNetwork\/labs\/module_3\/images\/launch_site_marker_distance.png\">\n",
    "<\/center>"
   ],
   "attachments":{},
   "metadata":{
    "datalore":{
     "node_id":"JTc5JjrijPmQ0KXrEz65IK",
     "type":"MD",
     "hide_input_from_viewers":false,
     "hide_output_from_viewers":false,
     "report_properties":{
      "rowId":"bqd0Nqk7FlmbUsfOLxTj5U"
     }
    }
   }
  },
  {
   "cell_type":"markdown",
   "source":[
    "_TODO:_ Similarly, you can draw a line betwee a launch site to its closest city, railway, highway, etc. You need to use `MousePosition` to find the their coordinates on the map first"
   ],
   "attachments":{},
   "metadata":{
    "datalore":{
     "node_id":"YssTBOZ1FMQtQ7aMuJyW6C",
     "type":"MD",
     "hide_input_from_viewers":false,
     "hide_output_from_viewers":false,
     "report_properties":{
      "rowId":"SXuMzGRQywntooABb44FaJ"
     }
    }
   }
  },
  {
   "cell_type":"markdown",
   "source":[
    "A railway map symbol may look like this:"
   ],
   "attachments":{},
   "metadata":{
    "datalore":{
     "node_id":"nWAIgwE1pFJKnkdJkkDexD",
     "type":"MD",
     "hide_input_from_viewers":false,
     "hide_output_from_viewers":false,
     "report_properties":{
      "rowId":"zG9lZcO5El6ImIT0k8jiiH"
     }
    }
   }
  },
  {
   "cell_type":"markdown",
   "source":[
    "<center>\n",
    "    <img src=\"https:\/\/cf-courses-data.s3.us.cloud-object-storage.appdomain.cloud\/IBM-DS0321EN-SkillsNetwork\/labs\/module_3\/images\/railway.png\">\n",
    "<\/center>"
   ],
   "attachments":{},
   "metadata":{
    "datalore":{
     "node_id":"dckYTVH48O3PamZWJKgQ2T",
     "type":"MD",
     "hide_input_from_viewers":false,
     "hide_output_from_viewers":false,
     "report_properties":{
      "rowId":"zljTOXl2SSTjf3RQ1YfSKz"
     }
    }
   }
  },
  {
   "cell_type":"markdown",
   "source":[
    "A highway map symbol may look like this:"
   ],
   "attachments":{},
   "metadata":{
    "datalore":{
     "node_id":"VkYVwrWoQyPMSQwCK5Rv1F",
     "type":"MD",
     "hide_input_from_viewers":false,
     "hide_output_from_viewers":false,
     "report_properties":{
      "rowId":"7pDwJlSUVBYXSfnAZUTCBz"
     }
    }
   }
  },
  {
   "cell_type":"markdown",
   "source":[
    "<center>\n",
    "    <img src=\"https:\/\/cf-courses-data.s3.us.cloud-object-storage.appdomain.cloud\/IBM-DS0321EN-SkillsNetwork\/labs\/module_3\/images\/highway.png\">\n",
    "<\/center>"
   ],
   "attachments":{},
   "metadata":{
    "datalore":{
     "node_id":"G2zon2YJ0GdKbejTQdByvG",
     "type":"MD",
     "hide_input_from_viewers":false,
     "hide_output_from_viewers":false,
     "report_properties":{
      "rowId":"1VTcCOU39l6a9fjdoj4p8G"
     }
    }
   }
  },
  {
   "cell_type":"markdown",
   "source":[
    "A city map symbol may look like this:"
   ],
   "attachments":{},
   "metadata":{
    "datalore":{
     "node_id":"Zc4rZ6crXQMXwUIgmWE5u1",
     "type":"MD",
     "hide_input_from_viewers":false,
     "hide_output_from_viewers":false,
     "report_properties":{
      "rowId":"fhdrRIyz5PVcNx5hRO8bHj"
     }
    }
   }
  },
  {
   "cell_type":"markdown",
   "source":[
    "<center>\n",
    "    <img src=\"https:\/\/cf-courses-data.s3.us.cloud-object-storage.appdomain.cloud\/IBM-DS0321EN-SkillsNetwork\/labs\/module_3\/images\/city.png\">\n",
    "<\/center>"
   ],
   "attachments":{},
   "metadata":{
    "datalore":{
     "node_id":"46GSlNO13V5szmzCqTcvJI",
     "type":"MD",
     "hide_input_from_viewers":false,
     "hide_output_from_viewers":false,
     "report_properties":{
      "rowId":"qQYZSBpHTqkJkpOphk8cnC"
     }
    }
   }
  },
  {
   "cell_type":"code",
   "source":[
    "# Create a marker with distance to a closest city, railway, highway, etc.\n",
    "# Draw a line between the marker to the launch site"
   ],
   "execution_count":19,
   "outputs":[],
   "metadata":{
    "datalore":{
     "node_id":"Hq0iQUJlNUe5Wwe3cEkEQO",
     "type":"CODE",
     "hide_input_from_viewers":false,
     "hide_output_from_viewers":false,
     "report_properties":{
      "rowId":"n8YSndzBZlhR0Hl0l2ahuS"
     }
    }
   }
  },
  {
   "cell_type":"code",
   "source":[],
   "execution_count":0,
   "outputs":[],
   "metadata":{
    "datalore":{
     "node_id":"Gg9CxGZ4SXfuZL57IjzRbb",
     "type":"CODE",
     "hide_input_from_viewers":true,
     "hide_output_from_viewers":true
    }
   }
  },
  {
   "cell_type":"code",
   "source":[],
   "execution_count":0,
   "outputs":[],
   "metadata":{
    "datalore":{
     "node_id":"NaoDrf409o6k2RsES6ZoVx",
     "type":"CODE",
     "hide_input_from_viewers":true,
     "hide_output_from_viewers":true
    }
   }
  },
  {
   "cell_type":"markdown",
   "source":[
    "After you plot distance lines to the proximities, you can answer the following questions easily:\n",
    "- Are launch sites in close proximity to railways?\n",
    "- Are launch sites in close proximity to highways?\n",
    "- Are launch sites in close proximity to coastline?\n",
    "- Do launch sites keep certain distance away from cities?\n",
    "\n",
    "Also please try to explain your findings."
   ],
   "attachments":{},
   "metadata":{
    "datalore":{
     "node_id":"YCYtKHRSNGljevvpMNVq6S",
     "type":"MD",
     "hide_input_from_viewers":false,
     "hide_output_from_viewers":false,
     "report_properties":{
      "rowId":"IpbGDgPvcqpOeK6tSrJUfC"
     }
    }
   }
  },
  {
   "cell_type":"markdown",
   "source":[
    "# Next Steps:\n",
    "\n",
    "Now you have discovered many interesting insights related to the launch sites' location using folium, in a very interactive way. Next, you will need to build a dashboard using Ploty Dash on detailed launch records."
   ],
   "attachments":{},
   "metadata":{
    "datalore":{
     "node_id":"jkooS8roWkaStPinsemPuW",
     "type":"MD",
     "hide_input_from_viewers":false,
     "hide_output_from_viewers":false,
     "report_properties":{
      "rowId":"XwDWArUBsb3VZOeZtDa7Tl"
     }
    }
   }
  },
  {
   "cell_type":"markdown",
   "source":[
    "## Authors"
   ],
   "attachments":{},
   "metadata":{
    "datalore":{
     "node_id":"5NDKPrDFrO0edpeQWvH60L",
     "type":"MD",
     "hide_input_from_viewers":false,
     "hide_output_from_viewers":false,
     "report_properties":{
      "rowId":"ROy0APjpQ4BQ4a8zYRHE6f"
     }
    }
   }
  },
  {
   "cell_type":"markdown",
   "source":[
    "[Yan Luo](https:\/\/www.linkedin.com\/in\/yan-luo-96288783\/?utm_medium=Exinfluencer&utm_source=Exinfluencer&utm_content=000026UJ&utm_term=10006555&utm_id=NA-SkillsNetwork-Channel-SkillsNetworkCoursesIBMDS0321ENSkillsNetwork865-2023-01-01)"
   ],
   "attachments":{},
   "metadata":{
    "datalore":{
     "node_id":"l0Qr6n1aVOqRQ9NSZvelSe",
     "type":"MD",
     "hide_input_from_viewers":false,
     "hide_output_from_viewers":false,
     "report_properties":{
      "rowId":"2xXw0sbKY5p3QZ7gJMt1HS"
     }
    }
   }
  },
  {
   "cell_type":"markdown",
   "source":[
    "### Other Contributors"
   ],
   "attachments":{},
   "metadata":{
    "datalore":{
     "node_id":"bGhXSeZ4ZXWyLFEoAhhTYi",
     "type":"MD",
     "hide_input_from_viewers":false,
     "hide_output_from_viewers":false,
     "report_properties":{
      "rowId":"kxhFODiQMiVDQ2ovge8ZzG"
     }
    }
   }
  },
  {
   "cell_type":"markdown",
   "source":[
    "Joseph Santarcangelo"
   ],
   "attachments":{},
   "metadata":{
    "datalore":{
     "node_id":"GizQmg086XKK2y2IZMmI9E",
     "type":"MD",
     "hide_input_from_viewers":false,
     "hide_output_from_viewers":false,
     "report_properties":{
      "rowId":"wi7ifYEcKSQ66thCmr9kpq"
     }
    }
   }
  },
  {
   "cell_type":"markdown",
   "source":[
    "## Change Log"
   ],
   "attachments":{},
   "metadata":{
    "datalore":{
     "node_id":"jEnz9Hng2lNmcKxlfMzkTT",
     "type":"MD",
     "hide_input_from_viewers":false,
     "hide_output_from_viewers":false,
     "report_properties":{
      "rowId":"CFzLq23rTEqDbjpws1ZlcK"
     }
    }
   }
  },
  {
   "cell_type":"markdown",
   "source":[
    "|Date (YYYY-MM-DD)|Version|Changed By|Change Description|\n",
    "|-|-|-|-|\n",
    "|2021-05-26|1.0|Yan|Created the initial version|"
   ],
   "attachments":{},
   "metadata":{
    "datalore":{
     "node_id":"ue37gIXJKneHKH5RHKpjzL",
     "type":"MD",
     "hide_input_from_viewers":false,
     "hide_output_from_viewers":false,
     "report_properties":{
      "rowId":"ZzhgL6K5ddLqU2a7ZgXbcJ"
     }
    }
   }
  },
  {
   "cell_type":"markdown",
   "source":[
    "Copyright © 2021 IBM Corporation. All rights reserved."
   ],
   "attachments":{},
   "metadata":{
    "datalore":{
     "node_id":"E5LTmwzhgzX9CmnRVnsvnr",
     "type":"MD",
     "hide_input_from_viewers":false,
     "hide_output_from_viewers":false,
     "report_properties":{
      "rowId":"rJv0bJ1cGBEPYvGhzPg7ju"
     }
    }
   }
  }
 ],
 "metadata":{
  "kernelspec":{
   "display_name":"Python",
   "language":"python",
   "name":"python"
  },
  "datalore":{
   "computation_mode":"JUPYTER",
   "package_manager":"pip",
   "base_environment":"default",
   "packages":[],
   "report_row_ids":[
    "sdFY3WJmfQqgvNfoWhRsg2",
    "kzGU3X12ectV0OeAUvKNzH",
    "1rAon0zlbNmyQmgN6N0fs1",
    "vxe8r4EnSjU2DKMiBJ8a4k",
    "4JOFK2VmUYA95vnZ0KmDyG",
    "PQcUblHHDVmBs47ymYg0lA",
    "KTJNxj6p2F8pIAJdCYOjGG",
    "s09cGHonVPzmOhDaFhrS4b",
    "BpfeTLGkcf2QiehpWjUpq2",
    "bes63IDipawQmchB8FrFW2",
    "IlEu4008bb66Ez9sEva7KK",
    "KNmVq6RgrhBPxW7bU2INSl",
    "sSlVYubIwNJiQwZHBO4yZ5",
    "2IIF99B1ETmFuTm705nsDo",
    "bRJsvDJZ1AdEGN7pNiixGC",
    "3C3sC2jESxs83nuTDoaXvb",
    "3pyWYwG3s7dEeklUCG1kSN",
    "0JHPvMrswDmWnemSu6e0yw",
    "YSv59Pad7r9vPvFdLLBH1f",
    "brIzIcxrcGtJ2wXgvLKas4",
    "AtOzYy08R3PSEjTL7vPED6",
    "w6gZN0IZXlTghWL62TvrOZ",
    "tE50mcFbNo4oOfjOC3Y0ya",
    "81Omdsqp3Fq6WyzGoskSxo",
    "F3lt4lPFxejsgwJYTpMNMq",
    "3mQv8THodMNMAMpD3vzEam",
    "t6nYjIlXTB56WdJ1arIR8T",
    "nddEgCNLzkGheq0Ee2OZUN",
    "ahBrp0b4sIjj79nGUITr2P",
    "SsEYpQ7puvAzN1jwWfLNPP",
    "36LDcoM6y9a59YE7ZTVNSO",
    "qzN0KU41VA93mvSVB1fzNZ",
    "IbXPV3W3VmErqUAJZrDyM4",
    "1e8Sz0aylSCILqn3D44ml2",
    "N2K5DPz2CCVRu6GnNjeICR",
    "Qe3q652Rp5JZJTn8gbYrLx",
    "fPI6c4WU7Akm142SviDkQO",
    "upTKelAzckzv62a979iB9N",
    "ExvolHOHdierm0Rt2md5bG",
    "XtVTvys1AJHyNhok4MCJ93",
    "FxlWQH16SX2uHjqeH5qhC8",
    "G0RZEqdXCGS7UglUtwq12a",
    "dVE9qQCX9cUsNjyRm62KR4",
    "EJGSWLQddW4ajuA2KBKUPt",
    "czB2Zwc2zMPHrBiitdvwCn",
    "Xh1HnHXOsiUMWDKJp0Bh5L",
    "IeX7hQMtiGaE9nO8h0t4Pc",
    "jSz97VIvcB0AwA66bCSS2i",
    "fYwUeUC3NzZw4ccUrCbqwN",
    "PqavruDFFziHG1o4Sh9IvB",
    "YTSAG8XoOEu6PV35UI0tUp",
    "tFfTxtWbWP0jrFyoWLm1A0",
    "I7jEdpG76ALxxVq2TjPJsn",
    "Qw6bSvArRn73sqVomz8Kxm",
    "zOyP4xJcqsrvG2rVRPyhmz",
    "KMnOdL4Z2Befg576tVb57j",
    "CWx51pgLV6yZo8QGKhd6nd",
    "kAptSS9fbrmvpGRqt5Qeke",
    "YdiM6Tl0W6mIGTJrgWD76A",
    "wtcEWswPQIUytUTXAU1rRv",
    "J8SVHlzGFrdmPjTPASJzPn",
    "PmMSL4oKunPuaeKoKve3qC",
    "mmBMigpO12XPALsVt8tDtp",
    "Xp4p9cUSePtfqeOmkJz5nI",
    "56ZFi1FYzNqE1yDeZGz40s",
    "bqd0Nqk7FlmbUsfOLxTj5U",
    "SXuMzGRQywntooABb44FaJ",
    "zG9lZcO5El6ImIT0k8jiiH",
    "zljTOXl2SSTjf3RQ1YfSKz",
    "7pDwJlSUVBYXSfnAZUTCBz",
    "1VTcCOU39l6a9fjdoj4p8G",
    "fhdrRIyz5PVcNx5hRO8bHj",
    "qQYZSBpHTqkJkpOphk8cnC",
    "n8YSndzBZlhR0Hl0l2ahuS",
    "IpbGDgPvcqpOeK6tSrJUfC",
    "XwDWArUBsb3VZOeZtDa7Tl",
    "ROy0APjpQ4BQ4a8zYRHE6f",
    "2xXw0sbKY5p3QZ7gJMt1HS",
    "kxhFODiQMiVDQ2ovge8ZzG",
    "wi7ifYEcKSQ66thCmr9kpq",
    "CFzLq23rTEqDbjpws1ZlcK",
    "ZzhgL6K5ddLqU2a7ZgXbcJ",
    "rJv0bJ1cGBEPYvGhzPg7ju"
   ],
   "version":3
  }
 },
 "nbformat":4,
 "nbformat_minor":4
}