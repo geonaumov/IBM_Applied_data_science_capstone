{
 "cells":[
  {
   "cell_type":"markdown",
   "source":[
    "## Overview of the DataSet\n",
    "\n",
    "SpaceX has gained worldwide attention for a series of historic milestones. \n",
    "\n",
    "It is the only private company ever to return a spacecraft from low-earth orbit, which it first accomplished in December 2010.\n",
    "SpaceX advertises Falcon 9 rocket launches on its website with a cost of 62 million dollars wheras other providers cost upward of 165 million dollars each, much of the savings is because Space X can reuse the first stage. \n",
    "\n",
    "\n",
    "Therefore if we can determine if the first stage will land, we can determine the cost of a launch. \n",
    "\n",
    "This information can be used if an alternate company wants to bid against SpaceX for a rocket launch.\n",
    "\n",
    "This dataset includes a record for each payload carried during a SpaceX mission into outer space."
   ],
   "attachments":{},
   "metadata":{
    "datalore":{
     "node_id":"5JXIvWNtO0rWKQ4oNU8E38",
     "type":"MD",
     "hide_input_from_viewers":false,
     "hide_output_from_viewers":false,
     "report_properties":{
      "rowId":"sqgL3qM86aYk3AJXb5LbTV"
     }
    }
   }
  },
  {
   "cell_type":"markdown",
   "source":[
    "### Download the datasets\n",
    "\n",
    "This assignment requires you to load the spacex dataset.\n",
    "\n",
    "In many cases the dataset to be analyzed is available as a .CSV (comma separated values) file, perhaps on the internet. Click on the link below to download and save the dataset (.CSV file):\n",
    "\n",
    " <a href=\"https:\/\/cf-courses-data.s3.us.cloud-object-storage.appdomain.cloud\/IBM-DS0321EN-SkillsNetwork\/labs\/module_2\/data\/Spacex.csv\" target=\"_blank\">Spacex DataSet<\/a>\n"
   ],
   "attachments":{},
   "metadata":{
    "datalore":{
     "node_id":"rwPDqEJNj3UmNqlEkO2VxL",
     "type":"MD",
     "hide_input_from_viewers":false,
     "hide_output_from_viewers":false,
     "report_properties":{
      "rowId":"jpyIMYAKvRIAHnlTMha68X"
     }
    }
   }
  },
  {
   "cell_type":"code",
   "source":[
    "!pip install -q sqlalchemy ipython-sql pandas"
   ],
   "execution_count":14,
   "outputs":[
    {
     "name":"stdout",
     "text":[
      "\r\n",
      "\u001b[1m[\u001b[0m\u001b[34;49mnotice\u001b[0m\u001b[1;39;49m]\u001b[0m\u001b[39;49m A new release of pip is available: \u001b[0m\u001b[31;49m23.1.2\u001b[0m\u001b[39;49m -> \u001b[0m\u001b[32;49m24.1.2\u001b[0m\r\n",
      "\u001b[1m[\u001b[0m\u001b[34;49mnotice\u001b[0m\u001b[1;39;49m]\u001b[0m\u001b[39;49m To update, run: \u001b[0m\u001b[32;49mpip install --upgrade pip\u001b[0m\r\n"
     ],
     "output_type":"stream"
    }
   ],
   "metadata":{
    "datalore":{
     "node_id":"7jqeL4eX3Us2clWfabwlx3",
     "type":"CODE",
     "hide_input_from_viewers":false,
     "hide_output_from_viewers":false,
     "report_properties":{
      "rowId":"McJ5hJUsJ1cCzos340o4Oj"
     }
    }
   }
  },
  {
   "cell_type":"markdown",
   "source":[
    "### Connect to the database\n",
    "\n",
    "Let us first load the SQL extension and establish a connection with the database"
   ],
   "attachments":{},
   "metadata":{
    "datalore":{
     "node_id":"pj9uJilT038BDj6hTCGfcb",
     "type":"MD",
     "hide_input_from_viewers":false,
     "hide_output_from_viewers":false,
     "report_properties":{
      "rowId":"VfeSboFONtaYJ4gooIgupu"
     }
    }
   }
  },
  {
   "cell_type":"code",
   "source":[
    "import csv, sqlite3\n",
    "\n",
    "con = sqlite3.connect(\"my_data1.db\")\n",
    "cur = con.cursor()"
   ],
   "execution_count":15,
   "outputs":[],
   "metadata":{
    "datalore":{
     "node_id":"jp15b5SIuIwCXt8tCa64YD",
     "type":"CODE",
     "hide_input_from_viewers":false,
     "hide_output_from_viewers":false,
     "report_properties":{
      "rowId":"wacKMHf0vHLvDaPmPPpkc0"
     }
    }
   }
  },
  {
   "cell_type":"code",
   "source":[
    "!wget -c \"https:\/\/cf-courses-data.s3.us.cloud-object-storage.appdomain.cloud\/IBM-DS0321EN-SkillsNetwork\/labs\/module_2\/data\/Spacex.csv\""
   ],
   "execution_count":16,
   "outputs":[
    {
     "name":"stdout",
     "text":[
      "--2024-07-22 10:48:34--  https:\/\/cf-courses-data.s3.us.cloud-object-storage.appdomain.cloud\/IBM-DS0321EN-SkillsNetwork\/labs\/module_2\/data\/Spacex.csv\r\n",
      "Resolving cf-courses-data.s3.us.cloud-object-storage.appdomain.cloud (cf-courses-data.s3.us.cloud-object-storage.appdomain.cloud)... 169.63.118.104\r\n",
      "Connecting to cf-courses-data.s3.us.cloud-object-storage.appdomain.cloud (cf-courses-data.s3.us.cloud-object-storage.appdomain.cloud)|169.63.118.104|:443... connected.\r\n",
      "HTTP request sent, awaiting response... 416 Range Not Satisfiable\r\n",
      "\r\n",
      "    The file is already fully retrieved; nothing to do.\r\n",
      "\r\n"
     ],
     "output_type":"stream"
    }
   ],
   "metadata":{
    "datalore":{
     "node_id":"BuFeY0TmJfObmjpnCio67G",
     "type":"CODE",
     "hide_input_from_viewers":true,
     "hide_output_from_viewers":true
    }
   }
  },
  {
   "cell_type":"code",
   "source":[
    "import pandas as pd\n",
    "df = pd.read_csv(\"\/data\/notebook_files\/Spacex.csv\")\n",
    "df.head(20)\n"
   ],
   "execution_count":17,
   "outputs":[
    {
     "data":{
      "text\/html":[
       "<div>\n",
       "<style scoped>\n",
       "    .dataframe tbody tr th:only-of-type {\n",
       "        vertical-align: middle;\n",
       "    }\n",
       "\n",
       "    .dataframe tbody tr th {\n",
       "        vertical-align: top;\n",
       "    }\n",
       "\n",
       "    .dataframe thead th {\n",
       "        text-align: right;\n",
       "    }\n",
       "<\/style>\n",
       "<table border=\"1\" class=\"dataframe\">\n",
       "  <thead>\n",
       "    <tr style=\"text-align: right;\">\n",
       "      <th><\/th>\n",
       "      <th>Date<\/th>\n",
       "      <th>Time (UTC)<\/th>\n",
       "      <th>Booster_Version<\/th>\n",
       "      <th>Launch_Site<\/th>\n",
       "      <th>Payload<\/th>\n",
       "      <th>PAYLOAD_MASS__KG_<\/th>\n",
       "      <th>Orbit<\/th>\n",
       "      <th>Customer<\/th>\n",
       "      <th>Mission_Outcome<\/th>\n",
       "      <th>Landing_Outcome<\/th>\n",
       "    <\/tr>\n",
       "  <\/thead>\n",
       "  <tbody>\n",
       "    <tr>\n",
       "      <th>0<\/th>\n",
       "      <td>2010-06-04<\/td>\n",
       "      <td>18:45:00<\/td>\n",
       "      <td>F9 v1.0  B0003<\/td>\n",
       "      <td>CCAFS LC-40<\/td>\n",
       "      <td>Dragon Spacecraft Qualification Unit<\/td>\n",
       "      <td>0<\/td>\n",
       "      <td>LEO<\/td>\n",
       "      <td>SpaceX<\/td>\n",
       "      <td>Success<\/td>\n",
       "      <td>Failure (parachute)<\/td>\n",
       "    <\/tr>\n",
       "    <tr>\n",
       "      <th>1<\/th>\n",
       "      <td>2010-12-08<\/td>\n",
       "      <td>15:43:00<\/td>\n",
       "      <td>F9 v1.0  B0004<\/td>\n",
       "      <td>CCAFS LC-40<\/td>\n",
       "      <td>Dragon demo flight C1, two CubeSats, barrel of...<\/td>\n",
       "      <td>0<\/td>\n",
       "      <td>LEO (ISS)<\/td>\n",
       "      <td>NASA (COTS) NRO<\/td>\n",
       "      <td>Success<\/td>\n",
       "      <td>Failure (parachute)<\/td>\n",
       "    <\/tr>\n",
       "    <tr>\n",
       "      <th>2<\/th>\n",
       "      <td>2012-05-22<\/td>\n",
       "      <td>7:44:00<\/td>\n",
       "      <td>F9 v1.0  B0005<\/td>\n",
       "      <td>CCAFS LC-40<\/td>\n",
       "      <td>Dragon demo flight C2<\/td>\n",
       "      <td>525<\/td>\n",
       "      <td>LEO (ISS)<\/td>\n",
       "      <td>NASA (COTS)<\/td>\n",
       "      <td>Success<\/td>\n",
       "      <td>No attempt<\/td>\n",
       "    <\/tr>\n",
       "    <tr>\n",
       "      <th>3<\/th>\n",
       "      <td>2012-10-08<\/td>\n",
       "      <td>0:35:00<\/td>\n",
       "      <td>F9 v1.0  B0006<\/td>\n",
       "      <td>CCAFS LC-40<\/td>\n",
       "      <td>SpaceX CRS-1<\/td>\n",
       "      <td>500<\/td>\n",
       "      <td>LEO (ISS)<\/td>\n",
       "      <td>NASA (CRS)<\/td>\n",
       "      <td>Success<\/td>\n",
       "      <td>No attempt<\/td>\n",
       "    <\/tr>\n",
       "    <tr>\n",
       "      <th>4<\/th>\n",
       "      <td>2013-03-01<\/td>\n",
       "      <td>15:10:00<\/td>\n",
       "      <td>F9 v1.0  B0007<\/td>\n",
       "      <td>CCAFS LC-40<\/td>\n",
       "      <td>SpaceX CRS-2<\/td>\n",
       "      <td>677<\/td>\n",
       "      <td>LEO (ISS)<\/td>\n",
       "      <td>NASA (CRS)<\/td>\n",
       "      <td>Success<\/td>\n",
       "      <td>No attempt<\/td>\n",
       "    <\/tr>\n",
       "    <tr>\n",
       "      <th>5<\/th>\n",
       "      <td>2013-09-29<\/td>\n",
       "      <td>16:00:00<\/td>\n",
       "      <td>F9 v1.1  B1003<\/td>\n",
       "      <td>VAFB SLC-4E<\/td>\n",
       "      <td>CASSIOPE<\/td>\n",
       "      <td>500<\/td>\n",
       "      <td>Polar LEO<\/td>\n",
       "      <td>MDA<\/td>\n",
       "      <td>Success<\/td>\n",
       "      <td>Uncontrolled (ocean)<\/td>\n",
       "    <\/tr>\n",
       "    <tr>\n",
       "      <th>6<\/th>\n",
       "      <td>2013-12-03<\/td>\n",
       "      <td>22:41:00<\/td>\n",
       "      <td>F9 v1.1<\/td>\n",
       "      <td>CCAFS LC-40<\/td>\n",
       "      <td>SES-8<\/td>\n",
       "      <td>3170<\/td>\n",
       "      <td>GTO<\/td>\n",
       "      <td>SES<\/td>\n",
       "      <td>Success<\/td>\n",
       "      <td>No attempt<\/td>\n",
       "    <\/tr>\n",
       "    <tr>\n",
       "      <th>7<\/th>\n",
       "      <td>2014-01-06<\/td>\n",
       "      <td>22:06:00<\/td>\n",
       "      <td>F9 v1.1<\/td>\n",
       "      <td>CCAFS LC-40<\/td>\n",
       "      <td>Thaicom 6<\/td>\n",
       "      <td>3325<\/td>\n",
       "      <td>GTO<\/td>\n",
       "      <td>Thaicom<\/td>\n",
       "      <td>Success<\/td>\n",
       "      <td>No attempt<\/td>\n",
       "    <\/tr>\n",
       "    <tr>\n",
       "      <th>8<\/th>\n",
       "      <td>2014-04-18<\/td>\n",
       "      <td>19:25:00<\/td>\n",
       "      <td>F9 v1.1<\/td>\n",
       "      <td>CCAFS LC-40<\/td>\n",
       "      <td>SpaceX CRS-3<\/td>\n",
       "      <td>2296<\/td>\n",
       "      <td>LEO (ISS)<\/td>\n",
       "      <td>NASA (CRS)<\/td>\n",
       "      <td>Success<\/td>\n",
       "      <td>Controlled (ocean)<\/td>\n",
       "    <\/tr>\n",
       "    <tr>\n",
       "      <th>9<\/th>\n",
       "      <td>2014-07-14<\/td>\n",
       "      <td>15:15:00<\/td>\n",
       "      <td>F9 v1.1<\/td>\n",
       "      <td>CCAFS LC-40<\/td>\n",
       "      <td>OG2 Mission 1  6 Orbcomm-OG2 satellites<\/td>\n",
       "      <td>1316<\/td>\n",
       "      <td>LEO<\/td>\n",
       "      <td>Orbcomm<\/td>\n",
       "      <td>Success<\/td>\n",
       "      <td>Controlled (ocean)<\/td>\n",
       "    <\/tr>\n",
       "    <tr>\n",
       "      <th>10<\/th>\n",
       "      <td>2014-08-05<\/td>\n",
       "      <td>8:00:00<\/td>\n",
       "      <td>F9 v1.1<\/td>\n",
       "      <td>CCAFS LC-40<\/td>\n",
       "      <td>AsiaSat 8<\/td>\n",
       "      <td>4535<\/td>\n",
       "      <td>GTO<\/td>\n",
       "      <td>AsiaSat<\/td>\n",
       "      <td>Success<\/td>\n",
       "      <td>No attempt<\/td>\n",
       "    <\/tr>\n",
       "    <tr>\n",
       "      <th>11<\/th>\n",
       "      <td>2014-09-07<\/td>\n",
       "      <td>5:00:00<\/td>\n",
       "      <td>F9 v1.1 B1011<\/td>\n",
       "      <td>CCAFS LC-40<\/td>\n",
       "      <td>AsiaSat 6<\/td>\n",
       "      <td>4428<\/td>\n",
       "      <td>GTO<\/td>\n",
       "      <td>AsiaSat<\/td>\n",
       "      <td>Success<\/td>\n",
       "      <td>No attempt<\/td>\n",
       "    <\/tr>\n",
       "    <tr>\n",
       "      <th>12<\/th>\n",
       "      <td>2014-09-21<\/td>\n",
       "      <td>5:52:00<\/td>\n",
       "      <td>F9 v1.1 B1010<\/td>\n",
       "      <td>CCAFS LC-40<\/td>\n",
       "      <td>SpaceX CRS-4<\/td>\n",
       "      <td>2216<\/td>\n",
       "      <td>LEO (ISS)<\/td>\n",
       "      <td>NASA (CRS)<\/td>\n",
       "      <td>Success<\/td>\n",
       "      <td>Uncontrolled (ocean)<\/td>\n",
       "    <\/tr>\n",
       "    <tr>\n",
       "      <th>13<\/th>\n",
       "      <td>2015-01-10<\/td>\n",
       "      <td>9:47:00<\/td>\n",
       "      <td>F9 v1.1 B1012<\/td>\n",
       "      <td>CCAFS LC-40<\/td>\n",
       "      <td>SpaceX CRS-5<\/td>\n",
       "      <td>2395<\/td>\n",
       "      <td>LEO (ISS)<\/td>\n",
       "      <td>NASA (CRS)<\/td>\n",
       "      <td>Success<\/td>\n",
       "      <td>Failure (drone ship)<\/td>\n",
       "    <\/tr>\n",
       "    <tr>\n",
       "      <th>14<\/th>\n",
       "      <td>2015-02-11<\/td>\n",
       "      <td>23:03:00<\/td>\n",
       "      <td>F9 v1.1 B1013<\/td>\n",
       "      <td>CCAFS LC-40<\/td>\n",
       "      <td>DSCOVR<\/td>\n",
       "      <td>570<\/td>\n",
       "      <td>HEO<\/td>\n",
       "      <td>U.S. Air Force NASA NOAA<\/td>\n",
       "      <td>Success<\/td>\n",
       "      <td>Controlled (ocean)<\/td>\n",
       "    <\/tr>\n",
       "    <tr>\n",
       "      <th>15<\/th>\n",
       "      <td>2015-03-02<\/td>\n",
       "      <td>3:50:00<\/td>\n",
       "      <td>F9 v1.1 B1014<\/td>\n",
       "      <td>CCAFS LC-40<\/td>\n",
       "      <td>ABS-3A Eutelsat 115 West B<\/td>\n",
       "      <td>4159<\/td>\n",
       "      <td>GTO<\/td>\n",
       "      <td>ABS Eutelsat<\/td>\n",
       "      <td>Success<\/td>\n",
       "      <td>No attempt<\/td>\n",
       "    <\/tr>\n",
       "    <tr>\n",
       "      <th>16<\/th>\n",
       "      <td>2015-04-14<\/td>\n",
       "      <td>20:10:00<\/td>\n",
       "      <td>F9 v1.1 B1015<\/td>\n",
       "      <td>CCAFS LC-40<\/td>\n",
       "      <td>SpaceX CRS-6<\/td>\n",
       "      <td>1898<\/td>\n",
       "      <td>LEO (ISS)<\/td>\n",
       "      <td>NASA (CRS)<\/td>\n",
       "      <td>Success<\/td>\n",
       "      <td>Failure (drone ship)<\/td>\n",
       "    <\/tr>\n",
       "    <tr>\n",
       "      <th>17<\/th>\n",
       "      <td>2015-04-27<\/td>\n",
       "      <td>23:03:00<\/td>\n",
       "      <td>F9 v1.1 B1016<\/td>\n",
       "      <td>CCAFS LC-40<\/td>\n",
       "      <td>Turkmen 52 \/ MonacoSAT<\/td>\n",
       "      <td>4707<\/td>\n",
       "      <td>GTO<\/td>\n",
       "      <td>Turkmenistan National Space Agency<\/td>\n",
       "      <td>Success<\/td>\n",
       "      <td>No attempt<\/td>\n",
       "    <\/tr>\n",
       "    <tr>\n",
       "      <th>18<\/th>\n",
       "      <td>2015-06-28<\/td>\n",
       "      <td>14:21:00<\/td>\n",
       "      <td>F9 v1.1 B1018<\/td>\n",
       "      <td>CCAFS LC-40<\/td>\n",
       "      <td>SpaceX CRS-7<\/td>\n",
       "      <td>1952<\/td>\n",
       "      <td>LEO (ISS)<\/td>\n",
       "      <td>NASA (CRS)<\/td>\n",
       "      <td>Failure (in flight)<\/td>\n",
       "      <td>Precluded (drone ship)<\/td>\n",
       "    <\/tr>\n",
       "    <tr>\n",
       "      <th>19<\/th>\n",
       "      <td>2015-12-22<\/td>\n",
       "      <td>1:29:00<\/td>\n",
       "      <td>F9 FT B1019<\/td>\n",
       "      <td>CCAFS LC-40<\/td>\n",
       "      <td>OG2 Mission 2  11 Orbcomm-OG2 satellites<\/td>\n",
       "      <td>2034<\/td>\n",
       "      <td>LEO<\/td>\n",
       "      <td>Orbcomm<\/td>\n",
       "      <td>Success<\/td>\n",
       "      <td>Success (ground pad)<\/td>\n",
       "    <\/tr>\n",
       "  <\/tbody>\n",
       "<\/table>\n",
       "<\/div>"
      ]
     },
     "metadata":{},
     "output_type":"display_data"
    }
   ],
   "metadata":{
    "datalore":{
     "node_id":"3Yg8U9oo0Iql0eQ1HSwaNh",
     "type":"CODE",
     "hide_input_from_viewers":true,
     "hide_output_from_viewers":true
    }
   }
  },
  {
   "cell_type":"code",
   "source":[
    "df.to_sql(\"SPACEXTBL\", con, if_exists='replace', index=False)\n",
    "con.commit()"
   ],
   "execution_count":18,
   "outputs":[],
   "metadata":{
    "datalore":{
     "node_id":"W7dmRYqACYx3d2OP5VyBNi",
     "type":"CODE",
     "hide_input_from_viewers":true,
     "hide_output_from_viewers":true
    }
   }
  },
  {
   "cell_type":"markdown",
   "source":[
    "**Note:This below code is added to remove blank rows from table**"
   ],
   "attachments":{},
   "metadata":{
    "datalore":{
     "node_id":"FzgMIwETzuecflUedLtEBE",
     "type":"MD",
     "hide_input_from_viewers":false,
     "hide_output_from_viewers":false,
     "report_properties":{
      "rowId":"dBWAug3iCLtP9uNGbZNKAR"
     }
    }
   }
  },
  {
   "cell_type":"code",
   "source":[
    "%load_ext sql\n",
    "%sql sqlite:\/\/\/my_data1.db"
   ],
   "execution_count":19,
   "outputs":[],
   "metadata":{
    "datalore":{
     "node_id":"lGRVHSMx6kSPx4IOQrifnY",
     "type":"CODE",
     "hide_input_from_viewers":true,
     "hide_output_from_viewers":true
    }
   }
  },
  {
   "cell_type":"code",
   "source":[
    "#DROP THE TABLE IF EXISTS\n",
    "\n",
    "# %sql DROP TABLE IF EXISTS SPACEXTABLE;"
   ],
   "execution_count":8,
   "outputs":[
    {
     "name":"stdout",
     "text":[
      " * sqlite:\/\/\/my_data1.db\n",
      "Done.\n"
     ],
     "output_type":"stream"
    },
    {
     "data":{
      "text\/plain":[
       "[]"
      ]
     },
     "metadata":{},
     "output_type":"display_data"
    }
   ],
   "metadata":{
    "datalore":{
     "node_id":"ZXxBOw68DX9vv7J95Ot990",
     "type":"CODE",
     "hide_input_from_viewers":false,
     "hide_output_from_viewers":false,
     "report_properties":{
      "rowId":"qAqUcSLVCg6oq1jtBRfxTs"
     }
    }
   }
  },
  {
   "cell_type":"code",
   "source":[
    "%sql create table SPACEXTABLE as select * from SPACEXTBL where Date is not null"
   ],
   "execution_count":20,
   "outputs":[
    {
     "name":"stdout",
     "text":[
      " * sqlite:\/\/\/my_data1.db\n",
      "Done.\n"
     ],
     "output_type":"stream"
    },
    {
     "data":{
      "text\/plain":[
       "[]"
      ]
     },
     "metadata":{},
     "output_type":"display_data"
    }
   ],
   "metadata":{
    "datalore":{
     "node_id":"4TXgMzBDx7g3K34IBspDAd",
     "type":"CODE",
     "hide_input_from_viewers":false,
     "hide_output_from_viewers":false,
     "report_properties":{
      "rowId":"1qohU3F12F3wqnh33QPX7H"
     }
    }
   }
  },
  {
   "cell_type":"markdown",
   "source":[
    "## Tasks\n",
    "\n",
    "Now write and execute SQL queries to solve the assignment tasks.\n",
    "\n",
    "**Note: If the column names are in mixed case enclose it in double quotes\n",
    "   For Example \"Landing_Outcome\"**\n",
    "\n",
    "### Task 1\n",
    "\n",
    "\n",
    "\n",
    "\n",
    "##### Display the names of the unique launch sites  in the space mission"
   ],
   "attachments":{},
   "metadata":{
    "datalore":{
     "node_id":"JFPsKbJHhJahThVW2du8v6",
     "type":"MD",
     "hide_input_from_viewers":false,
     "hide_output_from_viewers":false,
     "report_properties":{
      "rowId":"mpOVt14sM3xhs2T7GJBT31"
     }
    }
   }
  },
  {
   "cell_type":"code",
   "source":[
    "%sql select distinct \"Launch_Site\" from SPACEXTABLE;"
   ],
   "execution_count":21,
   "outputs":[
    {
     "name":"stdout",
     "text":[
      " * sqlite:\/\/\/my_data1.db\n",
      "Done.\n"
     ],
     "output_type":"stream"
    },
    {
     "data":{
      "text\/html":[
       "<table>\n",
       "    <thead>\n",
       "        <tr>\n",
       "            <th>Launch_Site<\/th>\n",
       "        <\/tr>\n",
       "    <\/thead>\n",
       "    <tbody>\n",
       "        <tr>\n",
       "            <td>CCAFS LC-40<\/td>\n",
       "        <\/tr>\n",
       "        <tr>\n",
       "            <td>VAFB SLC-4E<\/td>\n",
       "        <\/tr>\n",
       "        <tr>\n",
       "            <td>KSC LC-39A<\/td>\n",
       "        <\/tr>\n",
       "        <tr>\n",
       "            <td>CCAFS SLC-40<\/td>\n",
       "        <\/tr>\n",
       "    <\/tbody>\n",
       "<\/table>"
      ]
     },
     "metadata":{},
     "output_type":"display_data"
    }
   ],
   "metadata":{
    "datalore":{
     "node_id":"ZIjSSJTeo8EEDwzAp3mnNk",
     "type":"CODE",
     "hide_input_from_viewers":true,
     "hide_output_from_viewers":true
    }
   }
  },
  {
   "cell_type":"markdown",
   "source":[
    "\n",
    "### Task 2\n",
    "\n",
    "\n",
    "#####  Display 5 records where launch sites begin with the string 'CCA' "
   ],
   "attachments":{},
   "metadata":{
    "datalore":{
     "node_id":"xV4gEZDMWmfmeYXqiPHIrp",
     "type":"MD",
     "hide_input_from_viewers":false,
     "hide_output_from_viewers":false,
     "report_properties":{
      "rowId":"Ndano39NnY7kgeI6l4Q2FG"
     }
    }
   }
  },
  {
   "cell_type":"code",
   "source":[
    "%sql select \"Launch_Site\" from SPACEXTABLE WHERE \"Launch_Site\" LIKE 'CCA%' LIMIT 5;"
   ],
   "execution_count":22,
   "outputs":[
    {
     "name":"stdout",
     "text":[
      " * sqlite:\/\/\/my_data1.db\n",
      "Done.\n"
     ],
     "output_type":"stream"
    },
    {
     "data":{
      "text\/html":[
       "<table>\n",
       "    <thead>\n",
       "        <tr>\n",
       "            <th>Launch_Site<\/th>\n",
       "        <\/tr>\n",
       "    <\/thead>\n",
       "    <tbody>\n",
       "        <tr>\n",
       "            <td>CCAFS LC-40<\/td>\n",
       "        <\/tr>\n",
       "        <tr>\n",
       "            <td>CCAFS LC-40<\/td>\n",
       "        <\/tr>\n",
       "        <tr>\n",
       "            <td>CCAFS LC-40<\/td>\n",
       "        <\/tr>\n",
       "        <tr>\n",
       "            <td>CCAFS LC-40<\/td>\n",
       "        <\/tr>\n",
       "        <tr>\n",
       "            <td>CCAFS LC-40<\/td>\n",
       "        <\/tr>\n",
       "    <\/tbody>\n",
       "<\/table>"
      ]
     },
     "metadata":{},
     "output_type":"display_data"
    }
   ],
   "metadata":{
    "datalore":{
     "node_id":"Zx96zwuGi9W3lhRGQ4lMVH",
     "type":"CODE",
     "hide_input_from_viewers":true,
     "hide_output_from_viewers":true
    }
   }
  },
  {
   "cell_type":"markdown",
   "source":[
    "### Task 3\n",
    "\n",
    "\n",
    "\n",
    "\n",
    "##### Display the total payload mass carried by boosters launched by NASA (CRS)"
   ],
   "attachments":{},
   "metadata":{
    "datalore":{
     "node_id":"5ttEeQ3lr2ky4P61rs6wyM",
     "type":"MD",
     "hide_input_from_viewers":false,
     "hide_output_from_viewers":false,
     "report_properties":{
      "rowId":"UHbhfIV1u6eNWQxzeph01i"
     }
    }
   }
  },
  {
   "cell_type":"code",
   "source":[
    "%sql select sum(\"PAYLOAD_MASS__KG_\") from SPACEXTABLE where customer = 'NASA (CRS)';"
   ],
   "execution_count":26,
   "outputs":[
    {
     "name":"stdout",
     "text":[
      " * sqlite:\/\/\/my_data1.db\n",
      "Done.\n"
     ],
     "output_type":"stream"
    },
    {
     "data":{
      "text\/html":[
       "<table>\n",
       "    <thead>\n",
       "        <tr>\n",
       "            <th>sum(&quot;PAYLOAD_MASS__KG_&quot;)<\/th>\n",
       "        <\/tr>\n",
       "    <\/thead>\n",
       "    <tbody>\n",
       "        <tr>\n",
       "            <td>45596<\/td>\n",
       "        <\/tr>\n",
       "    <\/tbody>\n",
       "<\/table>"
      ]
     },
     "metadata":{},
     "output_type":"display_data"
    }
   ],
   "metadata":{
    "datalore":{
     "node_id":"aUM1wcvnG8WonTkTcjS8Y4",
     "type":"CODE",
     "hide_input_from_viewers":true,
     "hide_output_from_viewers":true
    }
   }
  },
  {
   "cell_type":"markdown",
   "source":[
    "### Task 4\n",
    "\n",
    "\n",
    "\n",
    "\n",
    "##### Display average payload mass carried by booster version F9 v1.1"
   ],
   "attachments":{},
   "metadata":{
    "datalore":{
     "node_id":"2ADDBdXWjPczBFqIo1ii4e",
     "type":"MD",
     "hide_input_from_viewers":false,
     "hide_output_from_viewers":false,
     "report_properties":{
      "rowId":"bx7o23kMdLQSy1mLHgsDZS"
     }
    }
   }
  },
  {
   "cell_type":"code",
   "source":[
    "%sql select avg(\"PAYLOAD_MASS__KG_\") as avg_payload_F9 from SPACEXTABLE WHERE \"Booster_Version\" LIKE 'F9 v1.1%';"
   ],
   "execution_count":25,
   "outputs":[
    {
     "name":"stdout",
     "text":[
      " * sqlite:\/\/\/my_data1.db\n",
      "Done.\n"
     ],
     "output_type":"stream"
    },
    {
     "data":{
      "text\/html":[
       "<table>\n",
       "    <thead>\n",
       "        <tr>\n",
       "            <th>avg_payload_F9<\/th>\n",
       "        <\/tr>\n",
       "    <\/thead>\n",
       "    <tbody>\n",
       "        <tr>\n",
       "            <td>2534.6666666666665<\/td>\n",
       "        <\/tr>\n",
       "    <\/tbody>\n",
       "<\/table>"
      ]
     },
     "metadata":{},
     "output_type":"display_data"
    }
   ],
   "metadata":{
    "datalore":{
     "node_id":"0hGhyoPtMRPhIJ29rKo9Ii",
     "type":"CODE",
     "hide_input_from_viewers":true,
     "hide_output_from_viewers":true
    }
   }
  },
  {
   "cell_type":"markdown",
   "source":[
    "### Task 5\n",
    "\n",
    "##### List the date when the first succesful landing outcome in ground pad was acheived.\n",
    "\n",
    "\n",
    "_Hint:Use min function_ "
   ],
   "attachments":{},
   "metadata":{
    "datalore":{
     "node_id":"t72jrIFx2ypts4ny91d7HD",
     "type":"MD",
     "hide_input_from_viewers":false,
     "hide_output_from_viewers":false,
     "report_properties":{
      "rowId":"9cKr10GV56btyBcYctN6CH"
     }
    }
   }
  },
  {
   "cell_type":"code",
   "source":[
    "%sql select \"Date\" from SPACEXTABLE WHERE \"Landing_Outcome\" LIKE 'Success (ground pad)' ORDER BY \"Date\" LIMIT 1;"
   ],
   "execution_count":27,
   "outputs":[
    {
     "name":"stdout",
     "text":[
      " * sqlite:\/\/\/my_data1.db\n",
      "Done.\n"
     ],
     "output_type":"stream"
    },
    {
     "data":{
      "text\/html":[
       "<table>\n",
       "    <thead>\n",
       "        <tr>\n",
       "            <th>Date<\/th>\n",
       "        <\/tr>\n",
       "    <\/thead>\n",
       "    <tbody>\n",
       "        <tr>\n",
       "            <td>2015-12-22<\/td>\n",
       "        <\/tr>\n",
       "    <\/tbody>\n",
       "<\/table>"
      ]
     },
     "metadata":{},
     "output_type":"display_data"
    }
   ],
   "metadata":{
    "datalore":{
     "node_id":"tqJaqJzYlJeQEIMt042Mt3",
     "type":"CODE",
     "hide_input_from_viewers":true,
     "hide_output_from_viewers":true
    }
   }
  },
  {
   "cell_type":"markdown",
   "source":[
    "### Task 6\n",
    "\n",
    "##### List the names of the boosters which have success in drone ship and have payload mass greater than 4000 but less than 6000"
   ],
   "attachments":{},
   "metadata":{
    "datalore":{
     "node_id":"kBC4PPgchLMsyEExMWrdLW",
     "type":"MD",
     "hide_input_from_viewers":false,
     "hide_output_from_viewers":false,
     "report_properties":{
      "rowId":"HYBaPR2yqABiPSxHC3yD9b"
     }
    }
   }
  },
  {
   "cell_type":"code",
   "source":[
    "%sql select booster_version from SPACEXTABLE where \"Landing_Outcome\" = 'Success (drone ship)' and payload_mass__kg_ between 4000 and 6000;"
   ],
   "execution_count":29,
   "outputs":[
    {
     "name":"stdout",
     "text":[
      " * sqlite:\/\/\/my_data1.db\n",
      "Done.\n"
     ],
     "output_type":"stream"
    },
    {
     "data":{
      "text\/html":[
       "<table>\n",
       "    <thead>\n",
       "        <tr>\n",
       "            <th>Booster_Version<\/th>\n",
       "        <\/tr>\n",
       "    <\/thead>\n",
       "    <tbody>\n",
       "        <tr>\n",
       "            <td>F9 FT B1022<\/td>\n",
       "        <\/tr>\n",
       "        <tr>\n",
       "            <td>F9 FT B1026<\/td>\n",
       "        <\/tr>\n",
       "        <tr>\n",
       "            <td>F9 FT  B1021.2<\/td>\n",
       "        <\/tr>\n",
       "        <tr>\n",
       "            <td>F9 FT  B1031.2<\/td>\n",
       "        <\/tr>\n",
       "    <\/tbody>\n",
       "<\/table>"
      ]
     },
     "metadata":{},
     "output_type":"display_data"
    }
   ],
   "metadata":{
    "datalore":{
     "node_id":"lDH0a7oCvcYddaqMR207nN",
     "type":"CODE",
     "hide_input_from_viewers":true,
     "hide_output_from_viewers":true
    }
   }
  },
  {
   "cell_type":"markdown",
   "source":[
    "### Task 7\n",
    "\n",
    "\n",
    "\n",
    "\n",
    "##### List the total number of successful and failure mission outcomes"
   ],
   "attachments":{},
   "metadata":{
    "datalore":{
     "node_id":"c7FMx8BPA5A4Dly1D5uxbn",
     "type":"MD",
     "hide_input_from_viewers":false,
     "hide_output_from_viewers":false,
     "report_properties":{
      "rowId":"fLWEspg6Hfd3Fr0IUbUrNL"
     }
    }
   }
  },
  {
   "cell_type":"code",
   "source":[
    "%sql select mission_outcome, count(*) as total_number from SPACEXTABLE group by mission_outcome;"
   ],
   "execution_count":31,
   "outputs":[
    {
     "name":"stdout",
     "text":[
      " * sqlite:\/\/\/my_data1.db\n",
      "Done.\n"
     ],
     "output_type":"stream"
    },
    {
     "data":{
      "text\/html":[
       "<table>\n",
       "    <thead>\n",
       "        <tr>\n",
       "            <th>Mission_Outcome<\/th>\n",
       "            <th>total_number<\/th>\n",
       "        <\/tr>\n",
       "    <\/thead>\n",
       "    <tbody>\n",
       "        <tr>\n",
       "            <td>Failure (in flight)<\/td>\n",
       "            <td>1<\/td>\n",
       "        <\/tr>\n",
       "        <tr>\n",
       "            <td>Success<\/td>\n",
       "            <td>98<\/td>\n",
       "        <\/tr>\n",
       "        <tr>\n",
       "            <td>Success <\/td>\n",
       "            <td>1<\/td>\n",
       "        <\/tr>\n",
       "        <tr>\n",
       "            <td>Success (payload status unclear)<\/td>\n",
       "            <td>1<\/td>\n",
       "        <\/tr>\n",
       "    <\/tbody>\n",
       "<\/table>"
      ]
     },
     "metadata":{},
     "output_type":"display_data"
    }
   ],
   "metadata":{
    "datalore":{
     "node_id":"nEsEfFeDbqUU4waElQw3xK",
     "type":"CODE",
     "hide_input_from_viewers":true,
     "hide_output_from_viewers":true
    }
   }
  },
  {
   "cell_type":"markdown",
   "source":[
    "### Task 8\n",
    "\n",
    "\n",
    "\n",
    "##### List the   names of the booster_versions which have carried the maximum payload mass. Use a subquery"
   ],
   "attachments":{},
   "metadata":{
    "datalore":{
     "node_id":"xqP3iE9ytvMcqyvvnBFxJz",
     "type":"MD",
     "hide_input_from_viewers":false,
     "hide_output_from_viewers":false,
     "report_properties":{
      "rowId":"iOtJB52IS7EycMuyQG5Osq"
     }
    }
   }
  },
  {
   "cell_type":"code",
   "source":[
    "%sql select booster_version from SPACEXTABLE where payload_mass__kg_ = (select max(payload_mass__kg_) from SPACEXTABLE);"
   ],
   "execution_count":32,
   "outputs":[
    {
     "name":"stdout",
     "text":[
      " * sqlite:\/\/\/my_data1.db\n",
      "Done.\n"
     ],
     "output_type":"stream"
    },
    {
     "data":{
      "text\/html":[
       "<table>\n",
       "    <thead>\n",
       "        <tr>\n",
       "            <th>Booster_Version<\/th>\n",
       "        <\/tr>\n",
       "    <\/thead>\n",
       "    <tbody>\n",
       "        <tr>\n",
       "            <td>F9 B5 B1048.4<\/td>\n",
       "        <\/tr>\n",
       "        <tr>\n",
       "            <td>F9 B5 B1049.4<\/td>\n",
       "        <\/tr>\n",
       "        <tr>\n",
       "            <td>F9 B5 B1051.3<\/td>\n",
       "        <\/tr>\n",
       "        <tr>\n",
       "            <td>F9 B5 B1056.4<\/td>\n",
       "        <\/tr>\n",
       "        <tr>\n",
       "            <td>F9 B5 B1048.5<\/td>\n",
       "        <\/tr>\n",
       "        <tr>\n",
       "            <td>F9 B5 B1051.4<\/td>\n",
       "        <\/tr>\n",
       "        <tr>\n",
       "            <td>F9 B5 B1049.5<\/td>\n",
       "        <\/tr>\n",
       "        <tr>\n",
       "            <td>F9 B5 B1060.2 <\/td>\n",
       "        <\/tr>\n",
       "        <tr>\n",
       "            <td>F9 B5 B1058.3 <\/td>\n",
       "        <\/tr>\n",
       "        <tr>\n",
       "            <td>F9 B5 B1051.6<\/td>\n",
       "        <\/tr>\n",
       "        <tr>\n",
       "            <td>F9 B5 B1060.3<\/td>\n",
       "        <\/tr>\n",
       "        <tr>\n",
       "            <td>F9 B5 B1049.7 <\/td>\n",
       "        <\/tr>\n",
       "    <\/tbody>\n",
       "<\/table>"
      ]
     },
     "metadata":{},
     "output_type":"display_data"
    }
   ],
   "metadata":{
    "datalore":{
     "node_id":"Q8WM8NSifSnMvcBz7ufFgT",
     "type":"CODE",
     "hide_input_from_viewers":true,
     "hide_output_from_viewers":true
    }
   }
  },
  {
   "cell_type":"markdown",
   "source":[
    "### Task 9\n",
    "\n",
    "\n",
    "##### List the records which will display the month names, failure landing_outcomes in drone ship ,booster versions, launch_site for the months in year 2015.\n",
    "\n",
    "**Note: SQLLite does not support monthnames. So you need to use  substr(Date, 6,2) as month to get the months and substr(Date,0,5)='2015' for year.**"
   ],
   "attachments":{},
   "metadata":{
    "datalore":{
     "node_id":"dx7iiAywOM5WIdY9Jybobd",
     "type":"MD",
     "hide_input_from_viewers":false,
     "hide_output_from_viewers":false,
     "report_properties":{
      "rowId":"oZkSSPx7an8w9Rmj9d8EJ5"
     }
    }
   }
  },
  {
   "cell_type":"code",
   "source":[
    "%%sql select  substr(Date, 6,2) as month, date, booster_version, launch_site, Landing_Outcome from SPACEXTABLE\n",
    "      where Landing_Outcome = 'Failure (drone ship)' and substr(Date,0,5)='2015';"
   ],
   "execution_count":35,
   "outputs":[
    {
     "name":"stdout",
     "text":[
      " * sqlite:\/\/\/my_data1.db\n",
      "Done.\n"
     ],
     "output_type":"stream"
    },
    {
     "data":{
      "text\/html":[
       "<table>\n",
       "    <thead>\n",
       "        <tr>\n",
       "            <th>month<\/th>\n",
       "            <th>Date<\/th>\n",
       "            <th>Booster_Version<\/th>\n",
       "            <th>Launch_Site<\/th>\n",
       "            <th>Landing_Outcome<\/th>\n",
       "        <\/tr>\n",
       "    <\/thead>\n",
       "    <tbody>\n",
       "        <tr>\n",
       "            <td>01<\/td>\n",
       "            <td>2015-01-10<\/td>\n",
       "            <td>F9 v1.1 B1012<\/td>\n",
       "            <td>CCAFS LC-40<\/td>\n",
       "            <td>Failure (drone ship)<\/td>\n",
       "        <\/tr>\n",
       "        <tr>\n",
       "            <td>04<\/td>\n",
       "            <td>2015-04-14<\/td>\n",
       "            <td>F9 v1.1 B1015<\/td>\n",
       "            <td>CCAFS LC-40<\/td>\n",
       "            <td>Failure (drone ship)<\/td>\n",
       "        <\/tr>\n",
       "    <\/tbody>\n",
       "<\/table>"
      ]
     },
     "metadata":{},
     "output_type":"display_data"
    }
   ],
   "metadata":{
    "datalore":{
     "node_id":"JcB6dN8x3kkDuTpqxH9Aqw",
     "type":"CODE",
     "hide_input_from_viewers":true,
     "hide_output_from_viewers":true
    }
   }
  },
  {
   "cell_type":"markdown",
   "source":[
    "### Task 10\n",
    "\n",
    "\n",
    "\n",
    "\n",
    "##### Rank the count of landing outcomes (such as Failure (drone ship) or Success (ground pad)) between the date 2010-06-04 and 2017-03-20, in descending order."
   ],
   "attachments":{},
   "metadata":{
    "datalore":{
     "node_id":"2CkUCF1MjoI44ZE35lCoCu",
     "type":"MD",
     "hide_input_from_viewers":false,
     "hide_output_from_viewers":false,
     "report_properties":{
      "rowId":"6wqq9YyCPaKlnhhKO1QZJN"
     }
    }
   }
  },
  {
   "cell_type":"code",
   "source":[
    "%%sql select Landing_Outcome, count(*) as count_outcomes from SPACEXTABLE\n",
    "      where date between '2010-06-04' and '2017-03-20'\n",
    "      group by Landing_Outcome\n",
    "      order by count_outcomes desc;"
   ],
   "execution_count":36,
   "outputs":[
    {
     "name":"stdout",
     "text":[
      " * sqlite:\/\/\/my_data1.db\n",
      "Done.\n"
     ],
     "output_type":"stream"
    },
    {
     "data":{
      "text\/html":[
       "<table>\n",
       "    <thead>\n",
       "        <tr>\n",
       "            <th>Landing_Outcome<\/th>\n",
       "            <th>count_outcomes<\/th>\n",
       "        <\/tr>\n",
       "    <\/thead>\n",
       "    <tbody>\n",
       "        <tr>\n",
       "            <td>No attempt<\/td>\n",
       "            <td>10<\/td>\n",
       "        <\/tr>\n",
       "        <tr>\n",
       "            <td>Success (drone ship)<\/td>\n",
       "            <td>5<\/td>\n",
       "        <\/tr>\n",
       "        <tr>\n",
       "            <td>Failure (drone ship)<\/td>\n",
       "            <td>5<\/td>\n",
       "        <\/tr>\n",
       "        <tr>\n",
       "            <td>Success (ground pad)<\/td>\n",
       "            <td>3<\/td>\n",
       "        <\/tr>\n",
       "        <tr>\n",
       "            <td>Controlled (ocean)<\/td>\n",
       "            <td>3<\/td>\n",
       "        <\/tr>\n",
       "        <tr>\n",
       "            <td>Uncontrolled (ocean)<\/td>\n",
       "            <td>2<\/td>\n",
       "        <\/tr>\n",
       "        <tr>\n",
       "            <td>Failure (parachute)<\/td>\n",
       "            <td>2<\/td>\n",
       "        <\/tr>\n",
       "        <tr>\n",
       "            <td>Precluded (drone ship)<\/td>\n",
       "            <td>1<\/td>\n",
       "        <\/tr>\n",
       "    <\/tbody>\n",
       "<\/table>"
      ]
     },
     "metadata":{},
     "output_type":"display_data"
    }
   ],
   "metadata":{
    "datalore":{
     "node_id":"5SlakWl1PHvkvnqE4tsVS3",
     "type":"CODE",
     "hide_input_from_viewers":true,
     "hide_output_from_viewers":true
    }
   }
  },
  {
   "cell_type":"code",
   "source":[],
   "execution_count":null,
   "outputs":[],
   "metadata":{
    "datalore":{
     "node_id":"DB2YbeAGhdz6lpw4iNndwi",
     "type":"CODE",
     "hide_input_from_viewers":true,
     "hide_output_from_viewers":true
    }
   }
  }
 ],
 "metadata":{
  "kernelspec":{
   "display_name":"Python",
   "language":"python",
   "name":"python"
  },
  "datalore":{
   "computation_mode":"JUPYTER",
   "package_manager":"pip",
   "base_environment":"default",
   "packages":[],
   "report_row_ids":[
    "vayjsj2ep350Xz2lOV1udr",
    "sqgL3qM86aYk3AJXb5LbTV",
    "jpyIMYAKvRIAHnlTMha68X",
    "McJ5hJUsJ1cCzos340o4Oj",
    "VfeSboFONtaYJ4gooIgupu",
    "2qQlgryVOPwjpSvTLTDbQD",
    "VaTwdfUJITsPf4fuh2WrDd",
    "wacKMHf0vHLvDaPmPPpkc0",
    "pasmDSbjDYRDKc456mYLuk",
    "Hy85AoplAeVs7EBJywHMSB",
    "pK4fkcBoW3jUpahSGpzf8I",
    "dBWAug3iCLtP9uNGbZNKAR",
    "qAqUcSLVCg6oq1jtBRfxTs",
    "1qohU3F12F3wqnh33QPX7H",
    "mpOVt14sM3xhs2T7GJBT31",
    "Ndano39NnY7kgeI6l4Q2FG",
    "UHbhfIV1u6eNWQxzeph01i",
    "bx7o23kMdLQSy1mLHgsDZS",
    "9cKr10GV56btyBcYctN6CH",
    "HYBaPR2yqABiPSxHC3yD9b",
    "fLWEspg6Hfd3Fr0IUbUrNL",
    "iOtJB52IS7EycMuyQG5Osq",
    "oZkSSPx7an8w9Rmj9d8EJ5",
    "6wqq9YyCPaKlnhhKO1QZJN",
    "5HlmbeSe409I7oXcrAYWr8",
    "6bouwmBDKl46xhatuLd8Sa",
    "aqgVQZSJHreFtS7PyAtuLa",
    "ZSLhDeaHpd0ih5H3oACKhX",
    "4pQxokAFoSoNbkrP7yt8iY"
   ],
   "version":3
  }
 },
 "nbformat":4,
 "nbformat_minor":4
}